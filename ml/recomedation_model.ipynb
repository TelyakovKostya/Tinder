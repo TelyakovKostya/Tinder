{
 "cells": [
  {
   "cell_type": "code",
   "execution_count": null,
   "metadata": {},
   "outputs": [],
   "source": [
    "1) забирает данные с Тиндера\n",
    "2) Парсит их\n",
    "3) применяет модель\n",
    "4) Записывает в БД"
   ]
  },
  {
   "cell_type": "code",
   "execution_count": null,
   "metadata": {},
   "outputs": [],
   "source": [
    "# coding=utf-8\n",
    "import json\n",
    "\n",
    "import config\n",
    "import requests\n",
    "import fb_auth_token\n",
    "\n",
    "# импортируем pymongo\n",
    "import pymongo\n",
    "import json\n",
    "import pandas as pd\n",
    "\n",
    "import datetime;\n",
    "import random"
   ]
  },
  {
   "cell_type": "code",
   "execution_count": null,
   "metadata": {},
   "outputs": [],
   "source": [
    "# Забираем данные из Тиндера"
   ]
  },
  {
   "cell_type": "code",
   "execution_count": null,
   "metadata": {},
   "outputs": [],
   "source": [
    "headers = {\n",
    "    'app_version': '6.9.4',\n",
    "    'platform': 'ios',\n",
    "    \"content-type\": \"application/json\",\n",
    "    \"User-agent\": \"Tinder/7.5.3 (iPhone; iOS 10.3.2; Scale/2.00)\",\n",
    "    \"Accept\": \"application/json\"\n",
    "}"
   ]
  },
  {
   "cell_type": "code",
   "execution_count": null,
   "metadata": {},
   "outputs": [],
   "source": [
    "# Получаем access token\n",
    "fb_access_token = config.fb_access_token\n",
    "\n",
    "# Получаем user_id\n",
    "fb_user_id = config.fb_user_id"
   ]
  },
  {
   "cell_type": "code",
   "execution_count": null,
   "metadata": {},
   "outputs": [],
   "source": [
    "def get_auth_token(fb_auth_token, fb_user_id):\n",
    "    if \"error\" in fb_auth_token:\n",
    "        return {\"error\": \"could not retrieve fb_auth_token\"}\n",
    "    if \"error\" in fb_user_id:\n",
    "        return {\"error\": \"could not retrieve fb_user_id\"}\n",
    "    url = url = 'https://api.gotinder.com/v2/auth/login/facebook'\n",
    "    req = requests.post(url,\n",
    "                        headers=headers,\n",
    "                        data=json.dumps(\n",
    "                            {'token': fb_auth_token, 'facebook_id': fb_user_id})\n",
    "                        )\n",
    "    print('req',req)\n",
    "    \n",
    "    #try:\n",
    "    \n",
    "    tinder_auth_token = req.json()['data']['api_token']\n",
    "    print('token :', tinder_auth_token)\n",
    "    headers.update({\"X-Auth-Token\": tinder_auth_token})\n",
    "    print(\"You have been successfully authorized!\")\n",
    "    return tinder_auth_token\n",
    "\n",
    "# Запускаем, чтобы получить token\n",
    "get_auth_token(fb_access_token, fb_user_id)"
   ]
  },
  {
   "cell_type": "code",
   "execution_count": null,
   "metadata": {},
   "outputs": [],
   "source": [
    "# Получаем рекомендации \n",
    "\n",
    "def get_recommendations():\n",
    "    '''\n",
    "    Returns a list of users that you can swipe on\n",
    "    '''\n",
    "    try:\n",
    "        r = requests.get('https://api.gotinder.com/user/recs', headers=headers)\n",
    "        return r.json()\n",
    "    except requests.exceptions.RequestException as e:\n",
    "        print(\"Something went wrong with getting recomendations:\", e)\n",
    "\n",
    "recommendations = get_recommendations()"
   ]
  },
  {
   "cell_type": "code",
   "execution_count": null,
   "metadata": {},
   "outputs": [],
   "source": [
    "# Парсим данные из Тиндера и записываем в БД"
   ]
  },
  {
   "cell_type": "code",
   "execution_count": null,
   "metadata": {},
   "outputs": [],
   "source": [
    "# соединяемся с сервером базы данных \n",
    "# (по умолчанию подключение осуществляется на localhost:27017)\n",
    "conn = pymongo.MongoClient()"
   ]
  },
  {
   "cell_type": "code",
   "execution_count": null,
   "metadata": {},
   "outputs": [],
   "source": [
    "# соединяемся с сервером базы данных \n",
    "# (по умолчанию подключение осуществляется на localhost:27017)\n",
    "conn = pymongo.MongoClient('mongodb-2523-0.cloudclusters.net:10009',\n",
    "                      username='Eduard',\n",
    "                      password='Qq123123',\n",
    "#                      authSource='the_database'\n",
    "                      )"
   ]
  },
  {
   "cell_type": "code",
   "execution_count": null,
   "metadata": {},
   "outputs": [],
   "source": [
    "# выбираем базу данных\n",
    "db = conn.Tinder"
   ]
  },
  {
   "cell_type": "code",
   "execution_count": null,
   "metadata": {},
   "outputs": [],
   "source": [
    "# функция применения модели\n",
    "\n",
    "def get_model_score(image):\n",
    "    \n",
    "    return score"
   ]
  },
  {
   "cell_type": "code",
   "execution_count": null,
   "metadata": {},
   "outputs": [],
   "source": [
    "# функция получения финального результата\n",
    "\n",
    "def get_finaly_model_predict(dict photos):\n",
    "    \n",
    "    return predict "
   ]
  },
  {
   "cell_type": "code",
   "execution_count": null,
   "metadata": {},
   "outputs": [],
   "source": [
    "person_data = {}\n",
    "\n",
    "\n",
    "for i, person in enumerate(recommendations['results']):    \n",
    "    print(i)\n",
    "    person_data = {\n",
    "            'timestamp': datetime.datetime.now().timestamp(),\n",
    "            'user_id': 0,\n",
    "            'person': {\n",
    "                '_id': recommendations['results'][i]['_id'],\n",
    "                'name': recommendations['results'][i]['name'],\n",
    "                'distance_mi': recommendations['results'][i]['distance_mi'],\n",
    "                'photos':[]\n",
    "            }           \n",
    "    }\n",
    "\n",
    "    try:\n",
    "        person_data['person']['age'] = datetime.datetime.now().year - int(recommendations['results'][i]['birth_date'][:4])\n",
    "    except IndexError:\n",
    "        person_data['person']['age'] = None\n",
    "        \n",
    "    try:\n",
    "        person_data['person']['schools'] =  recommendations['results'][i]['schools'][-1]['name']\n",
    "    except IndexError:\n",
    "        person_data['person']['schools'] =  None\n",
    "    \n",
    "    try:\n",
    "        person_data['person']['job'] = recommendations['results'][i]['jobs'][-1]['company']['name']\n",
    "    except KeyError:\n",
    "        person_data['person']['job'] = recommendations['results'][i]['jobs'][-1]['title']['name']\n",
    "    except Exception:\n",
    "        person_data['person']['job'] = None\n",
    "        \n",
    "    try:\n",
    "        person_data['person']['bio'] = recommendations['results'][i]['bio']\n",
    "    except KeyError:\n",
    "        person_data['person']['bio'] = None\n",
    "        \n",
    "        \n",
    "        #db.train_img_set.drop()\n",
    "\n",
    "    for j, photo in enumerate(recommendations['results'][i]['photos']):\n",
    "        photo_dict={}\n",
    "        \n",
    "        photo_dict['id'] = recommendations['results'][i]['photos'][j]['id'] \n",
    "        try:\n",
    "            photo_dict['link'] = recommendations['results'][i]['photos'][j]['url']                        \n",
    "        except Exception:\n",
    "            print('Ошибка в линке photo')\n",
    "            photo_dict['link'] = None                       \n",
    "\n",
    "        try:\n",
    "            photo_dict['model_score'] = [random.uniform(0,1),random.uniform(0,1)]\n",
    "                        \n",
    "        except Exception:\n",
    "            print('Ошибка в score')\n",
    "            photo_dict['model_score'] = None                        \n",
    "        \n",
    "        #print(photo_dict)\n",
    "        person_data['person']['photos'].append(photo_dict)                         \n",
    "    \n",
    "        \n",
    "        \n",
    "    try:\n",
    "        person_data['person']['model_result'] = random.choice(['like', 'pass'])\n",
    "    except Exception:\n",
    "        person_data['person']['model_result'] = None\n",
    "            \n",
    "  \n",
    "#    print(person_data)\n",
    "    db.recommendation_model.save(person_data)\n",
    "\n",
    "# Закрываем соединенение c БД"
   ]
  },
  {
   "cell_type": "code",
   "execution_count": null,
   "metadata": {},
   "outputs": [],
   "source": []
  },
  {
   "cell_type": "code",
   "execution_count": 3,
   "metadata": {},
   "outputs": [],
   "source": [
    "# License: BSD\n",
    "# Author: Sasank Chilamkurthy\n",
    "\n",
    "from __future__ import print_function, division\n",
    "\n",
    "import torch\n",
    "import torch.nn as nn\n",
    "import torch.optim as optim\n",
    "from torch.optim import lr_scheduler\n",
    "from torch.autograd import Variable\n",
    "import numpy as np\n",
    "import torchvision\n",
    "from torchvision import datasets, models, transforms\n",
    "import matplotlib.pyplot as plt\n",
    "import time\n",
    "import os\n",
    "import copy\n",
    "\n",
    "\n",
    "import random\n",
    "import numpy as np\n",
    "import pandas as pd\n",
    "\n",
    "#Графика\n",
    "# отключим предупреждения Anaconda\n",
    "import warnings\n",
    "warnings.simplefilter('ignore')\n",
    "\n",
    "# будем отображать графики прямо в jupyter'e\n",
    "%matplotlib inline\n",
    "import seaborn as sns\n",
    "import matplotlib.pyplot as plt\n",
    "#графики в svg выглядят более четкими\n",
    "%config InlineBackend.figure_format = 'svg' \n",
    "\n",
    "#увеличим дефолтный размер графиков\n",
    "from pylab import rcParams\n",
    "rcParams['figure.figsize'] = 8, 5\n",
    "\n",
    "\n",
    "plt.ion()   # interactive mode"
   ]
  },
  {
   "cell_type": "code",
   "execution_count": null,
   "metadata": {},
   "outputs": [],
   "source": []
  },
  {
   "cell_type": "code",
   "execution_count": null,
   "metadata": {},
   "outputs": [],
   "source": []
  },
  {
   "cell_type": "code",
   "execution_count": null,
   "metadata": {},
   "outputs": [],
   "source": []
  }
 ],
 "metadata": {
  "kernelspec": {
   "display_name": "Python 3",
   "language": "python",
   "name": "python3"
  },
  "language_info": {
   "codemirror_mode": {
    "name": "ipython",
    "version": 3
   },
   "file_extension": ".py",
   "mimetype": "text/x-python",
   "name": "python",
   "nbconvert_exporter": "python",
   "pygments_lexer": "ipython3",
   "version": "3.6.5"
  }
 },
 "nbformat": 4,
 "nbformat_minor": 2
}
