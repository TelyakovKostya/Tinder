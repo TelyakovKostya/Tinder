{
 "cells": [
  {
   "cell_type": "code",
   "execution_count": 61,
   "metadata": {},
   "outputs": [],
   "source": [
    "# импортируем pymongo\n",
    "import pymongo\n",
    "import json\n",
    "import pandas as pd"
   ]
  },
  {
   "cell_type": "code",
   "execution_count": 53,
   "metadata": {},
   "outputs": [],
   "source": [
    "# соединяемся с сервером базы данных \n",
    "# (по умолчанию подключение осуществляется на localhost:27017)\n",
    "conn = pymongo.MongoClient()"
   ]
  },
  {
   "cell_type": "code",
   "execution_count": 71,
   "metadata": {},
   "outputs": [],
   "source": [
    "# соединяемся с сервером базы данных \n",
    "# (по умолчанию подключение осуществляется на localhost:27017)\n",
    "conn = pymongo.MongoClient('mongodb-2523-0.cloudclusters.net:10009',\n",
    "                      username='Eduard',\n",
    "                      password='Qq123123',\n",
    "#                      authSource='the_database'\n",
    "                      )"
   ]
  },
  {
   "cell_type": "code",
   "execution_count": 70,
   "metadata": {},
   "outputs": [
    {
     "name": "stdout",
     "output_type": "stream",
     "text": [
      "{'name': 'Tinder', 'sizeOnDisk': 16384.0, 'empty': False}\n",
      "{'name': 'admin', 'sizeOnDisk': 208896.0, 'empty': False}\n",
      "{'name': 'config', 'sizeOnDisk': 110592.0, 'empty': False}\n",
      "{'name': 'local', 'sizeOnDisk': 65536.0, 'empty': False}\n"
     ]
    }
   ],
   "source": [
    "cursor = conn.list_databases()\n",
    "for db in cursor:\n",
    "    print(db)"
   ]
  },
  {
   "cell_type": "code",
   "execution_count": 80,
   "metadata": {},
   "outputs": [],
   "source": [
    "# выбираем базу данных\n",
    "db = conn.Tinder"
   ]
  },
  {
   "cell_type": "code",
   "execution_count": 73,
   "metadata": {},
   "outputs": [],
   "source": [
    "data = {'group_matched': False,\n",
    "   'distance_mi': 2,\n",
    "   'content_hash': 'Qpvh2oSE8c0NSvf9nSxvSahg4fZefNdu69HeH2ZCVfDz',\n",
    "   'common_friends': [],\n",
    "   'common_likes': [],\n",
    "   'common_friend_count': 0,\n",
    "   'common_like_count': 0,\n",
    "   'connection_count': 0,\n",
    "   '_id': '5872acfc7275d0714dcf2d11',\n",
    "   'bio': 'Обожаю пробовать новое, остро шутить и обниматься. За кофе могу и сама заплатить;)\\n\\nНе верю в гороскопы, судьбу и «половинки».\\nА что ты расскажешь о себе?',\n",
    "   'birth_date': '1989-04-24T14:47:42.182Z',\n",
    "   'name': 'Dasha',\n",
    "   'ping_time': '2014-12-09T00:00:00.000Z',\n",
    "   'photos': [{'id': 'b66260c8-1ab9-4b2a-a5b5-a88a082e0c64',\n",
    "     'url': 'https://images-ssl.gotinder.com/5872acfc7275d0714dcf2d11/1080x1350_b66260c8-1ab9-4b2a-a5b5-a88a082e0c64.jpg',\n",
    "     'processedFiles': [{'url': 'https://images-ssl.gotinder.com/5872acfc7275d0714dcf2d11/640x800_b66260c8-1ab9-4b2a-a5b5-a88a082e0c64.jpg',\n",
    "       'height': 800,\n",
    "       'width': 640},\n",
    "      {'url': 'https://images-ssl.gotinder.com/5872acfc7275d0714dcf2d11/320x400_b66260c8-1ab9-4b2a-a5b5-a88a082e0c64.jpg',\n",
    "       'height': 400,\n",
    "       'width': 320},\n",
    "      {'url': 'https://images-ssl.gotinder.com/5872acfc7275d0714dcf2d11/172x216_b66260c8-1ab9-4b2a-a5b5-a88a082e0c64.jpg',\n",
    "       'height': 216,\n",
    "       'width': 172},\n",
    "      {'url': 'https://images-ssl.gotinder.com/5872acfc7275d0714dcf2d11/84x106_b66260c8-1ab9-4b2a-a5b5-a88a082e0c64.jpg',\n",
    "       'height': 106,\n",
    "       'width': 84}],\n",
    "     'fileName': 'b66260c8-1ab9-4b2a-a5b5-a88a082e0c64.jpg',\n",
    "     'extension': 'jpg',\n",
    "     'main': True},\n",
    "    {'id': '9d21d5d8-86a0-4910-804d-7c4b51d2907d',\n",
    "     'url': 'https://images-ssl.gotinder.com/5872acfc7275d0714dcf2d11/1080x1080_9d21d5d8-86a0-4910-804d-7c4b51d2907d.jpg',\n",
    "     'processedFiles': [{'url': 'https://images-ssl.gotinder.com/5872acfc7275d0714dcf2d11/640x640_9d21d5d8-86a0-4910-804d-7c4b51d2907d.jpg',\n",
    "       'height': 640,\n",
    "       'width': 640},\n",
    "      {'url': 'https://images-ssl.gotinder.com/5872acfc7275d0714dcf2d11/320x320_9d21d5d8-86a0-4910-804d-7c4b51d2907d.jpg',\n",
    "       'height': 320,\n",
    "       'width': 320},\n",
    "      {'url': 'https://images-ssl.gotinder.com/5872acfc7275d0714dcf2d11/172x172_9d21d5d8-86a0-4910-804d-7c4b51d2907d.jpg',\n",
    "       'height': 172,\n",
    "       'width': 172},\n",
    "      {'url': 'https://images-ssl.gotinder.com/5872acfc7275d0714dcf2d11/84x84_9d21d5d8-86a0-4910-804d-7c4b51d2907d.jpg',\n",
    "       'height': 84,\n",
    "       'width': 84}],\n",
    "     'fileName': '9d21d5d8-86a0-4910-804d-7c4b51d2907d.jpg',\n",
    "     'extension': 'jpg'},\n",
    "    {'id': '39074636-3a60-47dd-86fb-273846aba66e',\n",
    "     'url': 'https://images-ssl.gotinder.com/5872acfc7275d0714dcf2d11/1080x1350_39074636-3a60-47dd-86fb-273846aba66e.jpg',\n",
    "     'processedFiles': [{'url': 'https://images-ssl.gotinder.com/5872acfc7275d0714dcf2d11/640x800_39074636-3a60-47dd-86fb-273846aba66e.jpg',\n",
    "       'height': 800,\n",
    "       'width': 640},\n",
    "      {'url': 'https://images-ssl.gotinder.com/5872acfc7275d0714dcf2d11/320x400_39074636-3a60-47dd-86fb-273846aba66e.jpg',\n",
    "       'height': 400,\n",
    "       'width': 320},\n",
    "      {'url': 'https://images-ssl.gotinder.com/5872acfc7275d0714dcf2d11/172x216_39074636-3a60-47dd-86fb-273846aba66e.jpg',\n",
    "       'height': 216,\n",
    "       'width': 172},\n",
    "      {'url': 'https://images-ssl.gotinder.com/5872acfc7275d0714dcf2d11/84x106_39074636-3a60-47dd-86fb-273846aba66e.jpg',\n",
    "       'height': 106,\n",
    "       'width': 84}],\n",
    "     'fileName': '39074636-3a60-47dd-86fb-273846aba66e.jpg',\n",
    "     'extension': 'jpg'},\n",
    "    {'id': '79f3045d-5ebf-4972-b1e6-ec9bbfed4a85',\n",
    "     'url': 'https://images-ssl.gotinder.com/5872acfc7275d0714dcf2d11/79f3045d-5ebf-4972-b1e6-ec9bbfed4a85.jpg',\n",
    "     'processedFiles': [{'url': 'https://images-ssl.gotinder.com/5872acfc7275d0714dcf2d11/640x640_79f3045d-5ebf-4972-b1e6-ec9bbfed4a85.jpg',\n",
    "       'height': 640,\n",
    "       'width': 640},\n",
    "      {'url': 'https://images-ssl.gotinder.com/5872acfc7275d0714dcf2d11/320x320_79f3045d-5ebf-4972-b1e6-ec9bbfed4a85.jpg',\n",
    "       'height': 320,\n",
    "       'width': 320},\n",
    "      {'url': 'https://images-ssl.gotinder.com/5872acfc7275d0714dcf2d11/172x172_79f3045d-5ebf-4972-b1e6-ec9bbfed4a85.jpg',\n",
    "       'height': 172,\n",
    "       'width': 172},\n",
    "      {'url': 'https://images-ssl.gotinder.com/5872acfc7275d0714dcf2d11/84x84_79f3045d-5ebf-4972-b1e6-ec9bbfed4a85.jpg',\n",
    "       'height': 84,\n",
    "       'width': 84}],\n",
    "     'fileName': '79f3045d-5ebf-4972-b1e6-ec9bbfed4a85.jpg',\n",
    "     'extension': 'jpg',\n",
    "     'successRate': 0.0,\n",
    "     'selectRate': 0.0},\n",
    "    {'id': 'fb69de36-c829-4b05-89a3-b8ba158715f4',\n",
    "     'url': 'https://images-ssl.gotinder.com/5872acfc7275d0714dcf2d11/fb69de36-c829-4b05-89a3-b8ba158715f4.jpg',\n",
    "     'processedFiles': [{'url': 'https://images-ssl.gotinder.com/5872acfc7275d0714dcf2d11/640x640_fb69de36-c829-4b05-89a3-b8ba158715f4.jpg',\n",
    "       'height': 640,\n",
    "       'width': 640},\n",
    "      {'url': 'https://images-ssl.gotinder.com/5872acfc7275d0714dcf2d11/320x320_fb69de36-c829-4b05-89a3-b8ba158715f4.jpg',\n",
    "       'height': 320,\n",
    "       'width': 320},\n",
    "      {'url': 'https://images-ssl.gotinder.com/5872acfc7275d0714dcf2d11/172x172_fb69de36-c829-4b05-89a3-b8ba158715f4.jpg',\n",
    "       'height': 172,\n",
    "       'width': 172},\n",
    "      {'url': 'https://images-ssl.gotinder.com/5872acfc7275d0714dcf2d11/84x84_fb69de36-c829-4b05-89a3-b8ba158715f4.jpg',\n",
    "       'height': 84,\n",
    "       'width': 84}],\n",
    "     'fileName': 'fb69de36-c829-4b05-89a3-b8ba158715f4.jpg',\n",
    "     'extension': 'jpg'},\n",
    "    {'id': '944064fb-349f-46de-8592-1f023b32e843',\n",
    "     'url': 'https://images-ssl.gotinder.com/5872acfc7275d0714dcf2d11/1080x1350_944064fb-349f-46de-8592-1f023b32e843.jpg',\n",
    "     'processedFiles': [{'url': 'https://images-ssl.gotinder.com/5872acfc7275d0714dcf2d11/640x800_944064fb-349f-46de-8592-1f023b32e843.jpg',\n",
    "       'height': 800,\n",
    "       'width': 640},\n",
    "      {'url': 'https://images-ssl.gotinder.com/5872acfc7275d0714dcf2d11/320x400_944064fb-349f-46de-8592-1f023b32e843.jpg',\n",
    "       'height': 400,\n",
    "       'width': 320},\n",
    "      {'url': 'https://images-ssl.gotinder.com/5872acfc7275d0714dcf2d11/172x216_944064fb-349f-46de-8592-1f023b32e843.jpg',\n",
    "       'height': 216,\n",
    "       'width': 172},\n",
    "      {'url': 'https://images-ssl.gotinder.com/5872acfc7275d0714dcf2d11/84x106_944064fb-349f-46de-8592-1f023b32e843.jpg',\n",
    "       'height': 106,\n",
    "       'width': 84}],\n",
    "     'fileName': '944064fb-349f-46de-8592-1f023b32e843.jpg',\n",
    "     'extension': 'jpg'}],\n",
    "   'instagram': {'last_fetch_time': '2019-04-17T04:12:24.188Z',\n",
    "    'completed_initial_fetch': True,\n",
    "    'photos': [{'image': 'https://scontent.cdninstagram.com/vp/a260e91a6358bd7d4029069723ed2c13/5D310E45/t51.2885-15/sh0.08/e35/s640x640/53759575_2246994878846428_7253323147577726686_n.jpg?_nc_ht=scontent.cdninstagram.com',\n",
    "      'thumbnail': 'https://scontent.cdninstagram.com/vp/8e97373dfb2e980a376cf419db79a821/5D49136A/t51.2885-15/e35/c160.0.760.760/s150x150/53759575_2246994878846428_7253323147577726686_n.jpg?_nc_ht=scontent.cdninstagram.com',\n",
    "      'ts': '1552566490',\n",
    "      'link': 'https://www.instagram.com/p/Bu_Rz9CHbAe/'},\n",
    "     {'image': 'https://scontent.cdninstagram.com/vp/a9a92597d62569257c443aa948957fef/5D740A14/t51.2885-15/e35/47581345_471477470048078_2213203755415782134_n.jpg?_nc_ht=scontent.cdninstagram.com',\n",
    "      'thumbnail': 'https://scontent.cdninstagram.com/vp/69d7ccdce5f07eb679c1aca5776ab322/5D48C490/t51.2885-15/e35/c106.0.427.427a/s150x150/47581345_471477470048078_2213203755415782134_n.jpg?_nc_ht=scontent.cdninstagram.com',\n",
    "      'ts': '1546248941',\n",
    "      'link': 'https://www.instagram.com/p/BsDACuHA_86/'},\n",
    "     {'image': 'https://scontent.cdninstagram.com/vp/35d79bfda11b2e0d69934320d736929e/5D50E8D7/t51.2885-15/sh0.08/e35/p640x640/44538918_743578685975459_6798617361133218347_n.jpg?_nc_ht=scontent.cdninstagram.com',\n",
    "      'thumbnail': 'https://scontent.cdninstagram.com/vp/cb3742edcb1db693257e2519ff202f39/5D41C1C4/t51.2885-15/e35/c0.1.724.724/s150x150/44538918_743578685975459_6798617361133218347_n.jpg?_nc_ht=scontent.cdninstagram.com',\n",
    "      'ts': '1543072786',\n",
    "      'link': 'https://www.instagram.com/p/BqkWAfGg5mC/'},\n",
    "     {'image': 'https://scontent.cdninstagram.com/vp/5af0ad4776ec567918c1ebdf2721cd7a/5D510C3C/t51.2885-15/sh0.08/e35/s640x640/42934499_548845375562587_1253598193019895219_n.jpg?_nc_ht=scontent.cdninstagram.com',\n",
    "      'thumbnail': 'https://scontent.cdninstagram.com/vp/66f76e6bf225e8bea686d9020515962a/5D4274EC/t51.2885-15/e35/c135.0.809.809/s150x150/42934499_548845375562587_1253598193019895219_n.jpg?_nc_ht=scontent.cdninstagram.com',\n",
    "      'ts': '1539337426',\n",
    "      'link': 'https://www.instagram.com/p/Bo1BX9Lnu6a/'},\n",
    "     {'image': 'https://scontent.cdninstagram.com/vp/e1232bc9b74d8f70e6ee9c6d5dc44b86/5D361596/t51.2885-15/sh0.08/e35/s640x640/41891022_390220404849314_2349447988202519992_n.jpg?_nc_ht=scontent.cdninstagram.com',\n",
    "      'thumbnail': 'https://scontent.cdninstagram.com/vp/8627d42b7a26876bba4743f3602e298e/5D3762A6/t51.2885-15/e35/c180.0.720.720/s150x150/41891022_390220404849314_2349447988202519992_n.jpg?_nc_ht=scontent.cdninstagram.com',\n",
    "      'ts': '1538668250',\n",
    "      'link': 'https://www.instagram.com/p/BohFBeFHQvR/'},\n",
    "     {'image': 'https://scontent.cdninstagram.com/vp/7b61dfb8155ce26ce9b9011c83645bfb/5D34E5B8/t51.2885-15/sh0.08/e35/s640x640/40438238_524429108005855_1808497007242568132_n.jpg?_nc_ht=scontent.cdninstagram.com',\n",
    "      'thumbnail': 'https://scontent.cdninstagram.com/vp/7ba54c0783e26d2149f4017938b1a345/5D3F7468/t51.2885-15/e35/c135.0.809.809/s150x150/40438238_524429108005855_1808497007242568132_n.jpg?_nc_ht=scontent.cdninstagram.com',\n",
    "      'ts': '1536756713',\n",
    "      'link': 'https://www.instagram.com/p/BnoHDhjnlS8/'},\n",
    "     {'image': 'https://scontent.cdninstagram.com/vp/ecdc6bc18560263154f1b1ca643701e1/5D2D7385/t51.2885-15/sh0.08/e35/s640x640/40067720_565150927234798_996408025847693312_n.jpg?_nc_ht=scontent.cdninstagram.com',\n",
    "      'thumbnail': 'https://scontent.cdninstagram.com/vp/646de4047858fda97397109c0e0e2831/5D330A64/t51.2885-15/e35/s150x150/40067720_565150927234798_996408025847693312_n.jpg?_nc_ht=scontent.cdninstagram.com',\n",
    "      'ts': '1535369904',\n",
    "      'link': 'https://www.instagram.com/p/Bm-x7V6H-ld/'},\n",
    "     {'image': 'https://scontent.cdninstagram.com/vp/e6a5a2d059a65439c6c78893dc71882b/5D52A6DB/t51.2885-15/sh0.08/e35/s640x640/39600372_2040616886268678_4105533412608049152_n.jpg?_nc_ht=scontent.cdninstagram.com',\n",
    "      'thumbnail': 'https://scontent.cdninstagram.com/vp/b134870196b9a20034d58d03c33d3cd2/5D3AD55E/t51.2885-15/e35/s150x150/39600372_2040616886268678_4105533412608049152_n.jpg?_nc_ht=scontent.cdninstagram.com',\n",
    "      'ts': '1535266666',\n",
    "      'link': 'https://www.instagram.com/p/Bm7tA-CHdCE/'},\n",
    "     {'image': 'https://scontent.cdninstagram.com/vp/c4e7487055137f58e263122c9e5a3395/5D52F7BF/t51.2885-15/sh0.08/e35/s640x640/39395694_733633473634753_6148366952625602560_n.jpg?_nc_ht=scontent.cdninstagram.com',\n",
    "      'thumbnail': 'https://scontent.cdninstagram.com/vp/b653faab40c9b4eff92779db0d47021f/5D3DA618/t51.2885-15/e35/s150x150/39395694_733633473634753_6148366952625602560_n.jpg?_nc_ht=scontent.cdninstagram.com',\n",
    "      'ts': '1535136702',\n",
    "      'link': 'https://www.instagram.com/p/Bm31IRznP46/'},\n",
    "     {'image': 'https://scontent.cdninstagram.com/vp/6cdb263b9d1752cb1921b281d3c7ebe5/5D7569E4/t51.2885-15/sh0.08/e35/s640x640/39232799_536383276816205_7630769503181209600_n.jpg?_nc_ht=scontent.cdninstagram.com',\n",
    "      'thumbnail': 'https://scontent.cdninstagram.com/vp/46866405307d44e33f3be988021d5196/5D3A254E/t51.2885-15/e35/c135.0.810.810/s150x150/39232799_536383276816205_7630769503181209600_n.jpg?_nc_ht=scontent.cdninstagram.com',\n",
    "      'ts': '1534960547',\n",
    "      'link': 'https://www.instagram.com/p/BmylJBFHZrt/'},\n",
    "     {'image': 'https://scontent.cdninstagram.com/vp/6eb99c39e49a7b224c09d1054b477991/5D47BDE5/t51.2885-15/sh0.08/e35/s640x640/38934826_1739427839511598_7237764430635728896_n.jpg?_nc_ht=scontent.cdninstagram.com',\n",
    "      'thumbnail': 'https://scontent.cdninstagram.com/vp/7fe5a6ef67e5ddeaad5e0f91462eabca/5D433060/t51.2885-15/e35/s150x150/38934826_1739427839511598_7237764430635728896_n.jpg?_nc_ht=scontent.cdninstagram.com',\n",
    "      'ts': '1534882850',\n",
    "      'link': 'https://www.instagram.com/p/BmwQ8bCHzcj/'},\n",
    "     {'image': 'https://scontent.cdninstagram.com/vp/ed3116713ebd7179ee005be0e8f60831/5D4AEECD/t51.2885-15/sh0.08/e35/s640x640/38673607_398978617298784_2541745170278252544_n.jpg?_nc_ht=scontent.cdninstagram.com',\n",
    "      'thumbnail': 'https://scontent.cdninstagram.com/vp/7458a79cb8871a121945b59f27f67bfd/5D35F46A/t51.2885-15/e35/s150x150/38673607_398978617298784_2541745170278252544_n.jpg?_nc_ht=scontent.cdninstagram.com',\n",
    "      'ts': '1534690451',\n",
    "      'link': 'https://www.instagram.com/p/Bmqh-SHnfUM/'},\n",
    "     {'image': 'https://scontent.cdninstagram.com/vp/751aa1b779de247355ff536cf5c3039e/5D54278C/t51.2885-15/sh0.08/e35/p640x640/38641854_285307542257901_6824499288685412352_n.jpg?_nc_ht=scontent.cdninstagram.com',\n",
    "      'thumbnail': 'https://scontent.cdninstagram.com/vp/98631d7a8a47c62f829eb1759b57c045/5D2E8B22/t51.2885-15/e35/c0.135.1080.1080/s150x150/38641854_285307542257901_6824499288685412352_n.jpg?_nc_ht=scontent.cdninstagram.com',\n",
    "      'ts': '1534604947',\n",
    "      'link': 'https://www.instagram.com/p/Bmn-4wnn--D/'},\n",
    "     {'image': 'https://scontent.cdninstagram.com/vp/c16b878e8846612b3029ef57d52b268a/5D433597/t51.2885-15/sh0.08/e35/p640x640/37344950_221929861854698_9014784824115724288_n.jpg?_nc_ht=scontent.cdninstagram.com',\n",
    "      'thumbnail': 'https://scontent.cdninstagram.com/vp/857356a3a29af64c4f4ea7d58e15fe5e/5D76CC39/t51.2885-15/e35/c0.135.1080.1080/s150x150/37344950_221929861854698_9014784824115724288_n.jpg?_nc_ht=scontent.cdninstagram.com',\n",
    "      'ts': '1533137703',\n",
    "      'link': 'https://www.instagram.com/p/Bl8QVxyn1dP/'},\n",
    "     {'image': 'https://scontent.cdninstagram.com/vp/9adcade855067d10402bdeb9a9e0241a/5D37C3C5/t51.2885-15/sh0.08/e35/s640x640/37624126_1403422009801122_3786676990468161536_n.jpg?_nc_ht=scontent.cdninstagram.com',\n",
    "      'thumbnail': 'https://scontent.cdninstagram.com/vp/3ae5dce714f68da03455bf66a7815cd3/5D30DC40/t51.2885-15/e35/s150x150/37624126_1403422009801122_3786676990468161536_n.jpg?_nc_ht=scontent.cdninstagram.com',\n",
    "      'ts': '1532886493',\n",
    "      'link': 'https://www.instagram.com/p/Bl0xMisnzIV/'},\n",
    "     {'image': 'https://scontent.cdninstagram.com/vp/82a6cde17a12d72f5705928069b26ef5/5D3A9C74/t51.2885-15/sh0.08/e35/s640x640/37226630_2129270150678294_2880334939918696448_n.jpg?_nc_ht=scontent.cdninstagram.com',\n",
    "      'thumbnail': 'https://scontent.cdninstagram.com/vp/a5cc4546486456a8bedcb123ec3ddcaa/5D3609FD/t51.2885-15/e35/c160.0.640.640a/s150x150/37226630_2129270150678294_2880334939918696448_n.jpg?_nc_ht=scontent.cdninstagram.com',\n",
    "      'ts': '1532282832',\n",
    "      'link': 'https://www.instagram.com/p/BlixzgLHCDl/'},\n",
    "     {'image': 'https://scontent.cdninstagram.com/vp/722587cbdf0354d9619d93f5ddf8e1de/5D4245FB/t51.2885-15/sh0.08/e35/s640x640/36630392_215558092499718_3924460331597824000_n.jpg?_nc_ht=scontent.cdninstagram.com',\n",
    "      'thumbnail': 'https://scontent.cdninstagram.com/vp/44be7d4aa4af8ab3e14de672eea1d0ea/5D3EBB5C/t51.2885-15/e35/s150x150/36630392_215558092499718_3924460331597824000_n.jpg?_nc_ht=scontent.cdninstagram.com',\n",
    "      'ts': '1530880416',\n",
    "      'link': 'https://www.instagram.com/p/Bk4-6Cenm7m/'},\n",
    "     {'image': 'https://scontent.cdninstagram.com/vp/8d628903b5f8dce38e07f5f262ec93f0/5D43C5AC/t51.2885-15/sh0.08/e35/s640x640/32860978_1649943251767854_4970996600089346048_n.jpg?_nc_ht=scontent.cdninstagram.com',\n",
    "      'thumbnail': 'https://scontent.cdninstagram.com/vp/01d1e5804897fc44e3186a199957beb4/5D2DE329/t51.2885-15/e35/s150x150/32860978_1649943251767854_4970996600089346048_n.jpg?_nc_ht=scontent.cdninstagram.com',\n",
    "      'ts': '1528043658',\n",
    "      'link': 'https://www.instagram.com/p/BjkcOJ5nizu/'},\n",
    "     {'image': 'https://scontent.cdninstagram.com/vp/6d88cb1223c5be98bb67325443fc1618/5D4B46EF/t51.2885-15/sh0.08/e35/s640x640/32568092_1670545679732174_462712658047533056_n.jpg?_nc_ht=scontent.cdninstagram.com',\n",
    "      'thumbnail': 'https://scontent.cdninstagram.com/vp/7779384630d004ae63e542bb2cd5b4ad/5D3F5748/t51.2885-15/e35/s150x150/32568092_1670545679732174_462712658047533056_n.jpg?_nc_ht=scontent.cdninstagram.com',\n",
    "      'ts': '1527605023',\n",
    "      'link': 'https://www.instagram.com/p/BjXXlzoHm8V/'},\n",
    "     {'image': 'https://scontent.cdninstagram.com/vp/3a0c84f3f429902ef609c31686a32ffe/5D4862F6/t51.2885-15/sh0.08/e35/s640x640/33150366_174789996545504_3607412567430922240_n.jpg?_nc_ht=scontent.cdninstagram.com',\n",
    "      'thumbnail': 'https://scontent.cdninstagram.com/vp/bb7cf39aaef4d6bb0752a1991995fa42/5D414D51/t51.2885-15/e35/s150x150/33150366_174789996545504_3607412567430922240_n.jpg?_nc_ht=scontent.cdninstagram.com',\n",
    "      'ts': '1527153972',\n",
    "      'link': 'https://www.instagram.com/p/BjJ7R7aHsxi/'},\n",
    "     {'image': 'https://scontent.cdninstagram.com/vp/9172d4fb89f5e1843294dd1667ff3bc1/5D3BD93D/t51.2885-15/sh0.08/e35/s640x640/31694801_1844915192227083_8084746056014757888_n.jpg?_nc_ht=scontent.cdninstagram.com',\n",
    "      'thumbnail': 'https://scontent.cdninstagram.com/vp/c4abe32240ea7b6f384731e32ee5aca6/5D76C004/t51.2885-15/e35/c135.0.809.809a/s150x150/31694801_1844915192227083_8084746056014757888_n.jpg?_nc_ht=scontent.cdninstagram.com',\n",
    "      'ts': '1525887545',\n",
    "      'link': 'https://www.instagram.com/p/BikLwvQnhvH/'},\n",
    "     {'image': 'https://scontent.cdninstagram.com/vp/bcdf18d91552d2d30b0fce3a1b386f6b/5D3F2AB3/t51.2885-15/sh0.08/e35/p640x640/29716694_181795639127052_7126271971599319040_n.jpg?_nc_ht=scontent.cdninstagram.com',\n",
    "      'thumbnail': 'https://scontent.cdninstagram.com/vp/4d9cfb431b2b5e18c67fbc2c0e6bebd0/5D76C21D/t51.2885-15/e35/c0.135.1080.1080/s150x150/29716694_181795639127052_7126271971599319040_n.jpg?_nc_ht=scontent.cdninstagram.com',\n",
    "      'ts': '1523204115',\n",
    "      'link': 'https://www.instagram.com/p/BhUNhn0H02z/'},\n",
    "     {'image': 'https://scontent.cdninstagram.com/vp/12e7f061ef70eac30c4e03208b8ab2ea/5D46B916/t51.2885-15/sh0.08/e35/s640x640/30085374_211687106231329_4048296505168101376_n.jpg?_nc_ht=scontent.cdninstagram.com',\n",
    "      'thumbnail': 'https://scontent.cdninstagram.com/vp/5668227e99e44c151f0a8441375a71e5/5D4621B1/t51.2885-15/e35/s150x150/30085374_211687106231329_4048296505168101376_n.jpg?_nc_ht=scontent.cdninstagram.com',\n",
    "      'ts': '1523140865',\n",
    "      'link': 'https://www.instagram.com/p/BhSU4tfHBKW/'},\n",
    "     {'image': 'https://scontent.cdninstagram.com/vp/f22a1546bd7b5d5e1737d83f8bb99435/5D3D54E6/t51.2885-15/sh0.08/e35/s640x640/29402827_182160172576807_8375156110889320448_n.jpg?_nc_ht=scontent.cdninstagram.com',\n",
    "      'thumbnail': 'https://scontent.cdninstagram.com/vp/35cb010f0a57d8874d56208cfbf7ff1c/5D47FE36/t51.2885-15/e35/c135.0.809.809/s150x150/29402827_182160172576807_8375156110889320448_n.jpg?_nc_ht=scontent.cdninstagram.com',\n",
    "      'ts': '1522502512',\n",
    "      'link': 'https://www.instagram.com/p/Bg_TUxrlDIy/'},\n",
    "     {'image': 'https://scontent.cdninstagram.com/vp/f21d1468557505d08089905ffd94957b/5D37FA42/t51.2885-15/sh0.08/e35/s640x640/29090317_437099660077813_2923853416872542208_n.jpg?_nc_ht=scontent.cdninstagram.com',\n",
    "      'thumbnail': 'https://scontent.cdninstagram.com/vp/60cebf0cce0b9e3551b75c46b8964649/5D4B46E5/t51.2885-15/e35/s150x150/29090317_437099660077813_2923853416872542208_n.jpg?_nc_ht=scontent.cdninstagram.com',\n",
    "      'ts': '1522161754',\n",
    "      'link': 'https://www.instagram.com/p/Bg1JYTNFlGK/'},\n",
    "     {'image': 'https://scontent.cdninstagram.com/vp/84d36e136c7e4a676223af43f8868a72/5D3854E4/t51.2885-15/sh0.08/e35/s640x640/29416059_364229690759128_4773358251125243904_n.jpg?_nc_ht=scontent.cdninstagram.com',\n",
    "      'thumbnail': 'https://scontent.cdninstagram.com/vp/55d3812c33b6e9254d5f924018a6e19f/5D52A743/t51.2885-15/e35/s150x150/29416059_364229690759128_4773358251125243904_n.jpg?_nc_ht=scontent.cdninstagram.com',\n",
    "      'ts': '1522144543',\n",
    "      'link': 'https://www.instagram.com/p/Bg0ojV2Fkew/'},\n",
    "     {'image': 'https://scontent.cdninstagram.com/vp/938d4a5cb45dafa7cdae5232a0aec1f2/5D40B56B/t51.2885-15/sh0.08/e35/s640x640/28765324_885133374944683_3030197369762217984_n.jpg?_nc_ht=scontent.cdninstagram.com',\n",
    "      'thumbnail': 'https://scontent.cdninstagram.com/vp/71fabd369492dd43bc083d23f3d78b20/5D2E26A6/t51.2885-15/e35/c162.0.755.755/s150x150/28765324_885133374944683_3030197369762217984_n.jpg?_nc_ht=scontent.cdninstagram.com',\n",
    "      'ts': '1521740735',\n",
    "      'link': 'https://www.instagram.com/p/BgomWV6FxP4/'},\n",
    "     {'image': 'https://scontent.cdninstagram.com/vp/e48d98d0d9e481fa08a9354c18673996/5D48D893/t51.2885-15/sh0.08/e35/p640x640/29415892_1628041633952460_5799756234009608192_n.jpg?_nc_ht=scontent.cdninstagram.com',\n",
    "      'thumbnail': 'https://scontent.cdninstagram.com/vp/28ff7dab6b1280b9f184137034f0d94c/5D3C2BF6/t51.2885-15/e35/c0.135.1080.1080/s150x150/29415892_1628041633952460_5799756234009608192_n.jpg?_nc_ht=scontent.cdninstagram.com',\n",
    "      'ts': '1521707800',\n",
    "      'link': 'https://www.instagram.com/p/Bgnnh-lFFFC/'},\n",
    "     {'image': 'https://scontent.cdninstagram.com/vp/ad7264215b54471aca070d6170d0445d/5D48E961/t51.2885-15/sh0.08/e35/s640x640/28764830_264706924068055_8895318775474159616_n.jpg?_nc_ht=scontent.cdninstagram.com',\n",
    "      'thumbnail': 'https://scontent.cdninstagram.com/vp/54d6010e4772d4ebca30e626b00ca92b/5D3A84C6/t51.2885-15/e35/s150x150/28764830_264706924068055_8895318775474159616_n.jpg?_nc_ht=scontent.cdninstagram.com',\n",
    "      'ts': '1521366793',\n",
    "      'link': 'https://www.instagram.com/p/BgddHHmnMYr/'},\n",
    "     {'image': 'https://scontent.cdninstagram.com/vp/23e20c0382ab7d4d65ab576830090dc7/5D38AA11/t51.2885-15/sh0.08/e35/s640x640/28150974_152930208705139_6786279603078955008_n.jpg?_nc_ht=scontent.cdninstagram.com',\n",
    "      'thumbnail': 'https://scontent.cdninstagram.com/vp/b73481205082a217e96b47513e2b637c/5D7568C1/t51.2885-15/e35/c135.0.809.809/s150x150/28150974_152930208705139_6786279603078955008_n.jpg?_nc_ht=scontent.cdninstagram.com',\n",
    "      'ts': '1519918949',\n",
    "      'link': 'https://www.instagram.com/p/BfyTkXiF6Gl/'}],\n",
    "    'media_count': 470,\n",
    "    'profile_picture': 'https://scontent.cdninstagram.com/vp/390a6f58f9e610c27cbc33dfc0d53c57/5D417FC8/t51.2885-19/s150x150/31496464_2001819566759987_1731855844540153856_n.jpg?_nc_ht=scontent.cdninstagram.com',\n",
    "    'username': 'Tinder'},\n",
    "   'jobs': [{'company': {'name': 'Еврейский музей и центр толерантности'}}],\n",
    "   'schools': [{'name': 'Психология'}],\n",
    "   'teaser': {'type': 'position',\n",
    "    'string': 'Еврейский музей и центр толерантности'},\n",
    "   'teasers': [{'type': 'position',\n",
    "     'string': 'Еврейский музей и центр толерантности'},\n",
    "    {'type': 'school', 'string': 'Психология'}],\n",
    "   'gender': 1,\n",
    "   'birth_date_info': 'fuzzy birthdate active, not displaying real birth_date',\n",
    "   's_number': 292070403}"
   ]
  },
  {
   "cell_type": "code",
   "execution_count": null,
   "metadata": {},
   "outputs": [],
   "source": []
  },
  {
   "cell_type": "code",
   "execution_count": 74,
   "metadata": {},
   "outputs": [
    {
     "name": "stdout",
     "output_type": "stream",
     "text": [
      "{'id': 1, 'link': 'https://images-ssl.gotinder.com/5872acfc7275d0714dcf2d11/1080x1350_b66260c8-1ab9-4b2a-a5b5-a88a082e0c64.jpg'}\n"
     ]
    },
    {
     "name": "stderr",
     "output_type": "stream",
     "text": [
      "/home/edvard/anaconda3/lib/python3.6/site-packages/ipykernel_launcher.py:8: DeprecationWarning: save is deprecated. Use insert_one or replace_one instead\n",
      "  \n"
     ]
    },
    {
     "name": "stdout",
     "output_type": "stream",
     "text": [
      "{'id': 2, 'link': 'https://images-ssl.gotinder.com/5872acfc7275d0714dcf2d11/1080x1080_9d21d5d8-86a0-4910-804d-7c4b51d2907d.jpg'}\n",
      "{'id': 3, 'link': 'https://images-ssl.gotinder.com/5872acfc7275d0714dcf2d11/1080x1350_39074636-3a60-47dd-86fb-273846aba66e.jpg'}\n",
      "{'id': 4, 'link': 'https://images-ssl.gotinder.com/5872acfc7275d0714dcf2d11/79f3045d-5ebf-4972-b1e6-ec9bbfed4a85.jpg'}\n",
      "{'id': 5, 'link': 'https://images-ssl.gotinder.com/5872acfc7275d0714dcf2d11/fb69de36-c829-4b05-89a3-b8ba158715f4.jpg'}\n",
      "{'id': 6, 'link': 'https://images-ssl.gotinder.com/5872acfc7275d0714dcf2d11/1080x1350_944064fb-349f-46de-8592-1f023b32e843.jpg'}\n"
     ]
    }
   ],
   "source": [
    "#db.train_img_set.drop()\n",
    "\n",
    "for i, photo in enumerate(data['photos']):\n",
    "    \n",
    "    photos = {'id' : i+1 , 'link': data['photos'][i]['url']} \n",
    "    print({'id' : i+1 , 'link': data['photos'][i]['url']} )\n",
    "    \n",
    "    db.train_img_set.save(photos)"
   ]
  },
  {
   "cell_type": "code",
   "execution_count": 79,
   "metadata": {},
   "outputs": [
    {
     "data": {
      "text/plain": [
       "{'name': 'local', 'sizeOnDisk': 65536.0, 'empty': False}"
      ]
     },
     "execution_count": 79,
     "metadata": {},
     "output_type": "execute_result"
    }
   ],
   "source": [
    "db"
   ]
  },
  {
   "cell_type": "code",
   "execution_count": 81,
   "metadata": {},
   "outputs": [
    {
     "name": "stdout",
     "output_type": "stream",
     "text": [
      "{'_id': ObjectId('5ce42bb4435fa609b201ff1f'), 'id': 1, 'link': 'https://images-ssl.gotinder.com/5872acfc7275d0714dcf2d11/1080x1350_b66260c8-1ab9-4b2a-a5b5-a88a082e0c64.jpg'}\n",
      "{'_id': ObjectId('5ce42bb5435fa609b201ff20'), 'id': 2, 'link': 'https://images-ssl.gotinder.com/5872acfc7275d0714dcf2d11/1080x1080_9d21d5d8-86a0-4910-804d-7c4b51d2907d.jpg'}\n",
      "{'_id': ObjectId('5ce42bb5435fa609b201ff21'), 'id': 3, 'link': 'https://images-ssl.gotinder.com/5872acfc7275d0714dcf2d11/1080x1350_39074636-3a60-47dd-86fb-273846aba66e.jpg'}\n",
      "{'_id': ObjectId('5ce42bb5435fa609b201ff22'), 'id': 4, 'link': 'https://images-ssl.gotinder.com/5872acfc7275d0714dcf2d11/79f3045d-5ebf-4972-b1e6-ec9bbfed4a85.jpg'}\n",
      "{'_id': ObjectId('5ce42bb5435fa609b201ff23'), 'id': 5, 'link': 'https://images-ssl.gotinder.com/5872acfc7275d0714dcf2d11/fb69de36-c829-4b05-89a3-b8ba158715f4.jpg'}\n",
      "{'_id': ObjectId('5ce42bb5435fa609b201ff24'), 'id': 6, 'link': 'https://images-ssl.gotinder.com/5872acfc7275d0714dcf2d11/1080x1350_944064fb-349f-46de-8592-1f023b32e843.jpg'}\n"
     ]
    }
   ],
   "source": [
    "# выводим все документы из коллекции coll\n",
    "for men in db.train_img_set.find():\n",
    "    print (men)"
   ]
  },
  {
   "cell_type": "code",
   "execution_count": 76,
   "metadata": {},
   "outputs": [
    {
     "name": "stdout",
     "output_type": "stream",
     "text": [
      "{'name': 'Tinder', 'sizeOnDisk': 24576.0, 'empty': False}\n",
      "{'name': 'admin', 'sizeOnDisk': 208896.0, 'empty': False}\n",
      "{'name': 'config', 'sizeOnDisk': 110592.0, 'empty': False}\n",
      "{'name': 'local', 'sizeOnDisk': 65536.0, 'empty': False}\n"
     ]
    }
   ],
   "source": [
    "cursor = conn.list_databases()\n",
    "for db in cursor:\n",
    "    print(db)"
   ]
  },
  {
   "cell_type": "code",
   "execution_count": null,
   "metadata": {},
   "outputs": [],
   "source": []
  },
  {
   "cell_type": "code",
   "execution_count": null,
   "metadata": {},
   "outputs": [],
   "source": []
  },
  {
   "cell_type": "code",
   "execution_count": null,
   "metadata": {},
   "outputs": [],
   "source": [
    "db.train_1.save(data['photos'][i]['url'])"
   ]
  },
  {
   "cell_type": "code",
   "execution_count": null,
   "metadata": {},
   "outputs": [],
   "source": [
    "db.train_1.save(data)"
   ]
  },
  {
   "cell_type": "code",
   "execution_count": null,
   "metadata": {},
   "outputs": [],
   "source": [
    "db.train_1.save(data['photos'][i]['url'])"
   ]
  },
  {
   "cell_type": "code",
   "execution_count": null,
   "metadata": {},
   "outputs": [],
   "source": []
  },
  {
   "cell_type": "code",
   "execution_count": 33,
   "metadata": {},
   "outputs": [
    {
     "name": "stderr",
     "output_type": "stream",
     "text": [
      "/home/edvard/anaconda3/lib/python3.6/site-packages/ipykernel_launcher.py:1: DeprecationWarning: save is deprecated. Use insert_one or replace_one instead\n",
      "  \"\"\"Entry point for launching an IPython kernel.\n"
     ]
    },
    {
     "data": {
      "text/plain": [
       "'5872acfc7275d0714dcf2d11'"
      ]
     },
     "execution_count": 33,
     "metadata": {},
     "output_type": "execute_result"
    }
   ],
   "source": [
    "db.users.save( data )"
   ]
  },
  {
   "cell_type": "code",
   "execution_count": 39,
   "metadata": {},
   "outputs": [
    {
     "ename": "AttributeError",
     "evalue": "'Cursor' object has no attribute 'pretty'",
     "output_type": "error",
     "traceback": [
      "\u001b[0;31m---------------------------------------------------------------------------\u001b[0m",
      "\u001b[0;31mAttributeError\u001b[0m                            Traceback (most recent call last)",
      "\u001b[0;32m<ipython-input-39-33b4dc0a2cb4>\u001b[0m in \u001b[0;36m<module>\u001b[0;34m()\u001b[0m\n\u001b[0;32m----> 1\u001b[0;31m \u001b[0mdb\u001b[0m\u001b[0;34m.\u001b[0m\u001b[0musers\u001b[0m\u001b[0;34m.\u001b[0m\u001b[0mfind\u001b[0m\u001b[0;34m(\u001b[0m\u001b[0;34m)\u001b[0m\u001b[0;34m.\u001b[0m\u001b[0mpretty\u001b[0m\u001b[0;34m(\u001b[0m\u001b[0;34m)\u001b[0m\u001b[0;34m\u001b[0m\u001b[0m\n\u001b[0m",
      "\u001b[0;31mAttributeError\u001b[0m: 'Cursor' object has no attribute 'pretty'"
     ]
    }
   ],
   "source": [
    "db.users.find().pretty()"
   ]
  },
  {
   "cell_type": "code",
   "execution_count": 35,
   "metadata": {},
   "outputs": [
    {
     "name": "stdout",
     "output_type": "stream",
     "text": [
      "{'_id': '5872acfc7275d0714dcf2d11', 'group_matched': False, 'distance_mi': 2, 'content_hash': 'Qpvh2oSE8c0NSvf9nSxvSahg4fZefNdu69HeH2ZCVfDz', 'common_friends': [], 'common_likes': [], 'common_friend_count': 0, 'common_like_count': 0, 'connection_count': 0, 'bio': 'Обожаю пробовать новое, остро шутить и обниматься. За кофе могу и сама заплатить;)\\n\\nНе верю в гороскопы, судьбу и «половинки».\\nА что ты расскажешь о себе?', 'birth_date': '1989-04-24T14:47:42.182Z', 'name': 'Dasha', 'ping_time': '2014-12-09T00:00:00.000Z', 'photos': [{'id': 'b66260c8-1ab9-4b2a-a5b5-a88a082e0c64', 'url': 'https://images-ssl.gotinder.com/5872acfc7275d0714dcf2d11/1080x1350_b66260c8-1ab9-4b2a-a5b5-a88a082e0c64.jpg', 'processedFiles': [{'url': 'https://images-ssl.gotinder.com/5872acfc7275d0714dcf2d11/640x800_b66260c8-1ab9-4b2a-a5b5-a88a082e0c64.jpg', 'height': 800, 'width': 640}, {'url': 'https://images-ssl.gotinder.com/5872acfc7275d0714dcf2d11/320x400_b66260c8-1ab9-4b2a-a5b5-a88a082e0c64.jpg', 'height': 400, 'width': 320}, {'url': 'https://images-ssl.gotinder.com/5872acfc7275d0714dcf2d11/172x216_b66260c8-1ab9-4b2a-a5b5-a88a082e0c64.jpg', 'height': 216, 'width': 172}, {'url': 'https://images-ssl.gotinder.com/5872acfc7275d0714dcf2d11/84x106_b66260c8-1ab9-4b2a-a5b5-a88a082e0c64.jpg', 'height': 106, 'width': 84}], 'fileName': 'b66260c8-1ab9-4b2a-a5b5-a88a082e0c64.jpg', 'extension': 'jpg', 'main': True}, {'id': '9d21d5d8-86a0-4910-804d-7c4b51d2907d', 'url': 'https://images-ssl.gotinder.com/5872acfc7275d0714dcf2d11/1080x1080_9d21d5d8-86a0-4910-804d-7c4b51d2907d.jpg', 'processedFiles': [{'url': 'https://images-ssl.gotinder.com/5872acfc7275d0714dcf2d11/640x640_9d21d5d8-86a0-4910-804d-7c4b51d2907d.jpg', 'height': 640, 'width': 640}, {'url': 'https://images-ssl.gotinder.com/5872acfc7275d0714dcf2d11/320x320_9d21d5d8-86a0-4910-804d-7c4b51d2907d.jpg', 'height': 320, 'width': 320}, {'url': 'https://images-ssl.gotinder.com/5872acfc7275d0714dcf2d11/172x172_9d21d5d8-86a0-4910-804d-7c4b51d2907d.jpg', 'height': 172, 'width': 172}, {'url': 'https://images-ssl.gotinder.com/5872acfc7275d0714dcf2d11/84x84_9d21d5d8-86a0-4910-804d-7c4b51d2907d.jpg', 'height': 84, 'width': 84}], 'fileName': '9d21d5d8-86a0-4910-804d-7c4b51d2907d.jpg', 'extension': 'jpg'}, {'id': '39074636-3a60-47dd-86fb-273846aba66e', 'url': 'https://images-ssl.gotinder.com/5872acfc7275d0714dcf2d11/1080x1350_39074636-3a60-47dd-86fb-273846aba66e.jpg', 'processedFiles': [{'url': 'https://images-ssl.gotinder.com/5872acfc7275d0714dcf2d11/640x800_39074636-3a60-47dd-86fb-273846aba66e.jpg', 'height': 800, 'width': 640}, {'url': 'https://images-ssl.gotinder.com/5872acfc7275d0714dcf2d11/320x400_39074636-3a60-47dd-86fb-273846aba66e.jpg', 'height': 400, 'width': 320}, {'url': 'https://images-ssl.gotinder.com/5872acfc7275d0714dcf2d11/172x216_39074636-3a60-47dd-86fb-273846aba66e.jpg', 'height': 216, 'width': 172}, {'url': 'https://images-ssl.gotinder.com/5872acfc7275d0714dcf2d11/84x106_39074636-3a60-47dd-86fb-273846aba66e.jpg', 'height': 106, 'width': 84}], 'fileName': '39074636-3a60-47dd-86fb-273846aba66e.jpg', 'extension': 'jpg'}, {'id': '79f3045d-5ebf-4972-b1e6-ec9bbfed4a85', 'url': 'https://images-ssl.gotinder.com/5872acfc7275d0714dcf2d11/79f3045d-5ebf-4972-b1e6-ec9bbfed4a85.jpg', 'processedFiles': [{'url': 'https://images-ssl.gotinder.com/5872acfc7275d0714dcf2d11/640x640_79f3045d-5ebf-4972-b1e6-ec9bbfed4a85.jpg', 'height': 640, 'width': 640}, {'url': 'https://images-ssl.gotinder.com/5872acfc7275d0714dcf2d11/320x320_79f3045d-5ebf-4972-b1e6-ec9bbfed4a85.jpg', 'height': 320, 'width': 320}, {'url': 'https://images-ssl.gotinder.com/5872acfc7275d0714dcf2d11/172x172_79f3045d-5ebf-4972-b1e6-ec9bbfed4a85.jpg', 'height': 172, 'width': 172}, {'url': 'https://images-ssl.gotinder.com/5872acfc7275d0714dcf2d11/84x84_79f3045d-5ebf-4972-b1e6-ec9bbfed4a85.jpg', 'height': 84, 'width': 84}], 'fileName': '79f3045d-5ebf-4972-b1e6-ec9bbfed4a85.jpg', 'extension': 'jpg', 'successRate': 0.0, 'selectRate': 0.0}, {'id': 'fb69de36-c829-4b05-89a3-b8ba158715f4', 'url': 'https://images-ssl.gotinder.com/5872acfc7275d0714dcf2d11/fb69de36-c829-4b05-89a3-b8ba158715f4.jpg', 'processedFiles': [{'url': 'https://images-ssl.gotinder.com/5872acfc7275d0714dcf2d11/640x640_fb69de36-c829-4b05-89a3-b8ba158715f4.jpg', 'height': 640, 'width': 640}, {'url': 'https://images-ssl.gotinder.com/5872acfc7275d0714dcf2d11/320x320_fb69de36-c829-4b05-89a3-b8ba158715f4.jpg', 'height': 320, 'width': 320}, {'url': 'https://images-ssl.gotinder.com/5872acfc7275d0714dcf2d11/172x172_fb69de36-c829-4b05-89a3-b8ba158715f4.jpg', 'height': 172, 'width': 172}, {'url': 'https://images-ssl.gotinder.com/5872acfc7275d0714dcf2d11/84x84_fb69de36-c829-4b05-89a3-b8ba158715f4.jpg', 'height': 84, 'width': 84}], 'fileName': 'fb69de36-c829-4b05-89a3-b8ba158715f4.jpg', 'extension': 'jpg'}, {'id': '944064fb-349f-46de-8592-1f023b32e843', 'url': 'https://images-ssl.gotinder.com/5872acfc7275d0714dcf2d11/1080x1350_944064fb-349f-46de-8592-1f023b32e843.jpg', 'processedFiles': [{'url': 'https://images-ssl.gotinder.com/5872acfc7275d0714dcf2d11/640x800_944064fb-349f-46de-8592-1f023b32e843.jpg', 'height': 800, 'width': 640}, {'url': 'https://images-ssl.gotinder.com/5872acfc7275d0714dcf2d11/320x400_944064fb-349f-46de-8592-1f023b32e843.jpg', 'height': 400, 'width': 320}, {'url': 'https://images-ssl.gotinder.com/5872acfc7275d0714dcf2d11/172x216_944064fb-349f-46de-8592-1f023b32e843.jpg', 'height': 216, 'width': 172}, {'url': 'https://images-ssl.gotinder.com/5872acfc7275d0714dcf2d11/84x106_944064fb-349f-46de-8592-1f023b32e843.jpg', 'height': 106, 'width': 84}], 'fileName': '944064fb-349f-46de-8592-1f023b32e843.jpg', 'extension': 'jpg'}], 'instagram': {'last_fetch_time': '2019-04-17T04:12:24.188Z', 'completed_initial_fetch': True, 'photos': [{'image': 'https://scontent.cdninstagram.com/vp/a260e91a6358bd7d4029069723ed2c13/5D310E45/t51.2885-15/sh0.08/e35/s640x640/53759575_2246994878846428_7253323147577726686_n.jpg?_nc_ht=scontent.cdninstagram.com', 'thumbnail': 'https://scontent.cdninstagram.com/vp/8e97373dfb2e980a376cf419db79a821/5D49136A/t51.2885-15/e35/c160.0.760.760/s150x150/53759575_2246994878846428_7253323147577726686_n.jpg?_nc_ht=scontent.cdninstagram.com', 'ts': '1552566490', 'link': 'https://www.instagram.com/p/Bu_Rz9CHbAe/'}, {'image': 'https://scontent.cdninstagram.com/vp/a9a92597d62569257c443aa948957fef/5D740A14/t51.2885-15/e35/47581345_471477470048078_2213203755415782134_n.jpg?_nc_ht=scontent.cdninstagram.com', 'thumbnail': 'https://scontent.cdninstagram.com/vp/69d7ccdce5f07eb679c1aca5776ab322/5D48C490/t51.2885-15/e35/c106.0.427.427a/s150x150/47581345_471477470048078_2213203755415782134_n.jpg?_nc_ht=scontent.cdninstagram.com', 'ts': '1546248941', 'link': 'https://www.instagram.com/p/BsDACuHA_86/'}, {'image': 'https://scontent.cdninstagram.com/vp/35d79bfda11b2e0d69934320d736929e/5D50E8D7/t51.2885-15/sh0.08/e35/p640x640/44538918_743578685975459_6798617361133218347_n.jpg?_nc_ht=scontent.cdninstagram.com', 'thumbnail': 'https://scontent.cdninstagram.com/vp/cb3742edcb1db693257e2519ff202f39/5D41C1C4/t51.2885-15/e35/c0.1.724.724/s150x150/44538918_743578685975459_6798617361133218347_n.jpg?_nc_ht=scontent.cdninstagram.com', 'ts': '1543072786', 'link': 'https://www.instagram.com/p/BqkWAfGg5mC/'}, {'image': 'https://scontent.cdninstagram.com/vp/5af0ad4776ec567918c1ebdf2721cd7a/5D510C3C/t51.2885-15/sh0.08/e35/s640x640/42934499_548845375562587_1253598193019895219_n.jpg?_nc_ht=scontent.cdninstagram.com', 'thumbnail': 'https://scontent.cdninstagram.com/vp/66f76e6bf225e8bea686d9020515962a/5D4274EC/t51.2885-15/e35/c135.0.809.809/s150x150/42934499_548845375562587_1253598193019895219_n.jpg?_nc_ht=scontent.cdninstagram.com', 'ts': '1539337426', 'link': 'https://www.instagram.com/p/Bo1BX9Lnu6a/'}, {'image': 'https://scontent.cdninstagram.com/vp/e1232bc9b74d8f70e6ee9c6d5dc44b86/5D361596/t51.2885-15/sh0.08/e35/s640x640/41891022_390220404849314_2349447988202519992_n.jpg?_nc_ht=scontent.cdninstagram.com', 'thumbnail': 'https://scontent.cdninstagram.com/vp/8627d42b7a26876bba4743f3602e298e/5D3762A6/t51.2885-15/e35/c180.0.720.720/s150x150/41891022_390220404849314_2349447988202519992_n.jpg?_nc_ht=scontent.cdninstagram.com', 'ts': '1538668250', 'link': 'https://www.instagram.com/p/BohFBeFHQvR/'}, {'image': 'https://scontent.cdninstagram.com/vp/7b61dfb8155ce26ce9b9011c83645bfb/5D34E5B8/t51.2885-15/sh0.08/e35/s640x640/40438238_524429108005855_1808497007242568132_n.jpg?_nc_ht=scontent.cdninstagram.com', 'thumbnail': 'https://scontent.cdninstagram.com/vp/7ba54c0783e26d2149f4017938b1a345/5D3F7468/t51.2885-15/e35/c135.0.809.809/s150x150/40438238_524429108005855_1808497007242568132_n.jpg?_nc_ht=scontent.cdninstagram.com', 'ts': '1536756713', 'link': 'https://www.instagram.com/p/BnoHDhjnlS8/'}, {'image': 'https://scontent.cdninstagram.com/vp/ecdc6bc18560263154f1b1ca643701e1/5D2D7385/t51.2885-15/sh0.08/e35/s640x640/40067720_565150927234798_996408025847693312_n.jpg?_nc_ht=scontent.cdninstagram.com', 'thumbnail': 'https://scontent.cdninstagram.com/vp/646de4047858fda97397109c0e0e2831/5D330A64/t51.2885-15/e35/s150x150/40067720_565150927234798_996408025847693312_n.jpg?_nc_ht=scontent.cdninstagram.com', 'ts': '1535369904', 'link': 'https://www.instagram.com/p/Bm-x7V6H-ld/'}, {'image': 'https://scontent.cdninstagram.com/vp/e6a5a2d059a65439c6c78893dc71882b/5D52A6DB/t51.2885-15/sh0.08/e35/s640x640/39600372_2040616886268678_4105533412608049152_n.jpg?_nc_ht=scontent.cdninstagram.com', 'thumbnail': 'https://scontent.cdninstagram.com/vp/b134870196b9a20034d58d03c33d3cd2/5D3AD55E/t51.2885-15/e35/s150x150/39600372_2040616886268678_4105533412608049152_n.jpg?_nc_ht=scontent.cdninstagram.com', 'ts': '1535266666', 'link': 'https://www.instagram.com/p/Bm7tA-CHdCE/'}, {'image': 'https://scontent.cdninstagram.com/vp/c4e7487055137f58e263122c9e5a3395/5D52F7BF/t51.2885-15/sh0.08/e35/s640x640/39395694_733633473634753_6148366952625602560_n.jpg?_nc_ht=scontent.cdninstagram.com', 'thumbnail': 'https://scontent.cdninstagram.com/vp/b653faab40c9b4eff92779db0d47021f/5D3DA618/t51.2885-15/e35/s150x150/39395694_733633473634753_6148366952625602560_n.jpg?_nc_ht=scontent.cdninstagram.com', 'ts': '1535136702', 'link': 'https://www.instagram.com/p/Bm31IRznP46/'}, {'image': 'https://scontent.cdninstagram.com/vp/6cdb263b9d1752cb1921b281d3c7ebe5/5D7569E4/t51.2885-15/sh0.08/e35/s640x640/39232799_536383276816205_7630769503181209600_n.jpg?_nc_ht=scontent.cdninstagram.com', 'thumbnail': 'https://scontent.cdninstagram.com/vp/46866405307d44e33f3be988021d5196/5D3A254E/t51.2885-15/e35/c135.0.810.810/s150x150/39232799_536383276816205_7630769503181209600_n.jpg?_nc_ht=scontent.cdninstagram.com', 'ts': '1534960547', 'link': 'https://www.instagram.com/p/BmylJBFHZrt/'}, {'image': 'https://scontent.cdninstagram.com/vp/6eb99c39e49a7b224c09d1054b477991/5D47BDE5/t51.2885-15/sh0.08/e35/s640x640/38934826_1739427839511598_7237764430635728896_n.jpg?_nc_ht=scontent.cdninstagram.com', 'thumbnail': 'https://scontent.cdninstagram.com/vp/7fe5a6ef67e5ddeaad5e0f91462eabca/5D433060/t51.2885-15/e35/s150x150/38934826_1739427839511598_7237764430635728896_n.jpg?_nc_ht=scontent.cdninstagram.com', 'ts': '1534882850', 'link': 'https://www.instagram.com/p/BmwQ8bCHzcj/'}, {'image': 'https://scontent.cdninstagram.com/vp/ed3116713ebd7179ee005be0e8f60831/5D4AEECD/t51.2885-15/sh0.08/e35/s640x640/38673607_398978617298784_2541745170278252544_n.jpg?_nc_ht=scontent.cdninstagram.com', 'thumbnail': 'https://scontent.cdninstagram.com/vp/7458a79cb8871a121945b59f27f67bfd/5D35F46A/t51.2885-15/e35/s150x150/38673607_398978617298784_2541745170278252544_n.jpg?_nc_ht=scontent.cdninstagram.com', 'ts': '1534690451', 'link': 'https://www.instagram.com/p/Bmqh-SHnfUM/'}, {'image': 'https://scontent.cdninstagram.com/vp/751aa1b779de247355ff536cf5c3039e/5D54278C/t51.2885-15/sh0.08/e35/p640x640/38641854_285307542257901_6824499288685412352_n.jpg?_nc_ht=scontent.cdninstagram.com', 'thumbnail': 'https://scontent.cdninstagram.com/vp/98631d7a8a47c62f829eb1759b57c045/5D2E8B22/t51.2885-15/e35/c0.135.1080.1080/s150x150/38641854_285307542257901_6824499288685412352_n.jpg?_nc_ht=scontent.cdninstagram.com', 'ts': '1534604947', 'link': 'https://www.instagram.com/p/Bmn-4wnn--D/'}, {'image': 'https://scontent.cdninstagram.com/vp/c16b878e8846612b3029ef57d52b268a/5D433597/t51.2885-15/sh0.08/e35/p640x640/37344950_221929861854698_9014784824115724288_n.jpg?_nc_ht=scontent.cdninstagram.com', 'thumbnail': 'https://scontent.cdninstagram.com/vp/857356a3a29af64c4f4ea7d58e15fe5e/5D76CC39/t51.2885-15/e35/c0.135.1080.1080/s150x150/37344950_221929861854698_9014784824115724288_n.jpg?_nc_ht=scontent.cdninstagram.com', 'ts': '1533137703', 'link': 'https://www.instagram.com/p/Bl8QVxyn1dP/'}, {'image': 'https://scontent.cdninstagram.com/vp/9adcade855067d10402bdeb9a9e0241a/5D37C3C5/t51.2885-15/sh0.08/e35/s640x640/37624126_1403422009801122_3786676990468161536_n.jpg?_nc_ht=scontent.cdninstagram.com', 'thumbnail': 'https://scontent.cdninstagram.com/vp/3ae5dce714f68da03455bf66a7815cd3/5D30DC40/t51.2885-15/e35/s150x150/37624126_1403422009801122_3786676990468161536_n.jpg?_nc_ht=scontent.cdninstagram.com', 'ts': '1532886493', 'link': 'https://www.instagram.com/p/Bl0xMisnzIV/'}, {'image': 'https://scontent.cdninstagram.com/vp/82a6cde17a12d72f5705928069b26ef5/5D3A9C74/t51.2885-15/sh0.08/e35/s640x640/37226630_2129270150678294_2880334939918696448_n.jpg?_nc_ht=scontent.cdninstagram.com', 'thumbnail': 'https://scontent.cdninstagram.com/vp/a5cc4546486456a8bedcb123ec3ddcaa/5D3609FD/t51.2885-15/e35/c160.0.640.640a/s150x150/37226630_2129270150678294_2880334939918696448_n.jpg?_nc_ht=scontent.cdninstagram.com', 'ts': '1532282832', 'link': 'https://www.instagram.com/p/BlixzgLHCDl/'}, {'image': 'https://scontent.cdninstagram.com/vp/722587cbdf0354d9619d93f5ddf8e1de/5D4245FB/t51.2885-15/sh0.08/e35/s640x640/36630392_215558092499718_3924460331597824000_n.jpg?_nc_ht=scontent.cdninstagram.com', 'thumbnail': 'https://scontent.cdninstagram.com/vp/44be7d4aa4af8ab3e14de672eea1d0ea/5D3EBB5C/t51.2885-15/e35/s150x150/36630392_215558092499718_3924460331597824000_n.jpg?_nc_ht=scontent.cdninstagram.com', 'ts': '1530880416', 'link': 'https://www.instagram.com/p/Bk4-6Cenm7m/'}, {'image': 'https://scontent.cdninstagram.com/vp/8d628903b5f8dce38e07f5f262ec93f0/5D43C5AC/t51.2885-15/sh0.08/e35/s640x640/32860978_1649943251767854_4970996600089346048_n.jpg?_nc_ht=scontent.cdninstagram.com', 'thumbnail': 'https://scontent.cdninstagram.com/vp/01d1e5804897fc44e3186a199957beb4/5D2DE329/t51.2885-15/e35/s150x150/32860978_1649943251767854_4970996600089346048_n.jpg?_nc_ht=scontent.cdninstagram.com', 'ts': '1528043658', 'link': 'https://www.instagram.com/p/BjkcOJ5nizu/'}, {'image': 'https://scontent.cdninstagram.com/vp/6d88cb1223c5be98bb67325443fc1618/5D4B46EF/t51.2885-15/sh0.08/e35/s640x640/32568092_1670545679732174_462712658047533056_n.jpg?_nc_ht=scontent.cdninstagram.com', 'thumbnail': 'https://scontent.cdninstagram.com/vp/7779384630d004ae63e542bb2cd5b4ad/5D3F5748/t51.2885-15/e35/s150x150/32568092_1670545679732174_462712658047533056_n.jpg?_nc_ht=scontent.cdninstagram.com', 'ts': '1527605023', 'link': 'https://www.instagram.com/p/BjXXlzoHm8V/'}, {'image': 'https://scontent.cdninstagram.com/vp/3a0c84f3f429902ef609c31686a32ffe/5D4862F6/t51.2885-15/sh0.08/e35/s640x640/33150366_174789996545504_3607412567430922240_n.jpg?_nc_ht=scontent.cdninstagram.com', 'thumbnail': 'https://scontent.cdninstagram.com/vp/bb7cf39aaef4d6bb0752a1991995fa42/5D414D51/t51.2885-15/e35/s150x150/33150366_174789996545504_3607412567430922240_n.jpg?_nc_ht=scontent.cdninstagram.com', 'ts': '1527153972', 'link': 'https://www.instagram.com/p/BjJ7R7aHsxi/'}, {'image': 'https://scontent.cdninstagram.com/vp/9172d4fb89f5e1843294dd1667ff3bc1/5D3BD93D/t51.2885-15/sh0.08/e35/s640x640/31694801_1844915192227083_8084746056014757888_n.jpg?_nc_ht=scontent.cdninstagram.com', 'thumbnail': 'https://scontent.cdninstagram.com/vp/c4abe32240ea7b6f384731e32ee5aca6/5D76C004/t51.2885-15/e35/c135.0.809.809a/s150x150/31694801_1844915192227083_8084746056014757888_n.jpg?_nc_ht=scontent.cdninstagram.com', 'ts': '1525887545', 'link': 'https://www.instagram.com/p/BikLwvQnhvH/'}, {'image': 'https://scontent.cdninstagram.com/vp/bcdf18d91552d2d30b0fce3a1b386f6b/5D3F2AB3/t51.2885-15/sh0.08/e35/p640x640/29716694_181795639127052_7126271971599319040_n.jpg?_nc_ht=scontent.cdninstagram.com', 'thumbnail': 'https://scontent.cdninstagram.com/vp/4d9cfb431b2b5e18c67fbc2c0e6bebd0/5D76C21D/t51.2885-15/e35/c0.135.1080.1080/s150x150/29716694_181795639127052_7126271971599319040_n.jpg?_nc_ht=scontent.cdninstagram.com', 'ts': '1523204115', 'link': 'https://www.instagram.com/p/BhUNhn0H02z/'}, {'image': 'https://scontent.cdninstagram.com/vp/12e7f061ef70eac30c4e03208b8ab2ea/5D46B916/t51.2885-15/sh0.08/e35/s640x640/30085374_211687106231329_4048296505168101376_n.jpg?_nc_ht=scontent.cdninstagram.com', 'thumbnail': 'https://scontent.cdninstagram.com/vp/5668227e99e44c151f0a8441375a71e5/5D4621B1/t51.2885-15/e35/s150x150/30085374_211687106231329_4048296505168101376_n.jpg?_nc_ht=scontent.cdninstagram.com', 'ts': '1523140865', 'link': 'https://www.instagram.com/p/BhSU4tfHBKW/'}, {'image': 'https://scontent.cdninstagram.com/vp/f22a1546bd7b5d5e1737d83f8bb99435/5D3D54E6/t51.2885-15/sh0.08/e35/s640x640/29402827_182160172576807_8375156110889320448_n.jpg?_nc_ht=scontent.cdninstagram.com', 'thumbnail': 'https://scontent.cdninstagram.com/vp/35cb010f0a57d8874d56208cfbf7ff1c/5D47FE36/t51.2885-15/e35/c135.0.809.809/s150x150/29402827_182160172576807_8375156110889320448_n.jpg?_nc_ht=scontent.cdninstagram.com', 'ts': '1522502512', 'link': 'https://www.instagram.com/p/Bg_TUxrlDIy/'}, {'image': 'https://scontent.cdninstagram.com/vp/f21d1468557505d08089905ffd94957b/5D37FA42/t51.2885-15/sh0.08/e35/s640x640/29090317_437099660077813_2923853416872542208_n.jpg?_nc_ht=scontent.cdninstagram.com', 'thumbnail': 'https://scontent.cdninstagram.com/vp/60cebf0cce0b9e3551b75c46b8964649/5D4B46E5/t51.2885-15/e35/s150x150/29090317_437099660077813_2923853416872542208_n.jpg?_nc_ht=scontent.cdninstagram.com', 'ts': '1522161754', 'link': 'https://www.instagram.com/p/Bg1JYTNFlGK/'}, {'image': 'https://scontent.cdninstagram.com/vp/84d36e136c7e4a676223af43f8868a72/5D3854E4/t51.2885-15/sh0.08/e35/s640x640/29416059_364229690759128_4773358251125243904_n.jpg?_nc_ht=scontent.cdninstagram.com', 'thumbnail': 'https://scontent.cdninstagram.com/vp/55d3812c33b6e9254d5f924018a6e19f/5D52A743/t51.2885-15/e35/s150x150/29416059_364229690759128_4773358251125243904_n.jpg?_nc_ht=scontent.cdninstagram.com', 'ts': '1522144543', 'link': 'https://www.instagram.com/p/Bg0ojV2Fkew/'}, {'image': 'https://scontent.cdninstagram.com/vp/938d4a5cb45dafa7cdae5232a0aec1f2/5D40B56B/t51.2885-15/sh0.08/e35/s640x640/28765324_885133374944683_3030197369762217984_n.jpg?_nc_ht=scontent.cdninstagram.com', 'thumbnail': 'https://scontent.cdninstagram.com/vp/71fabd369492dd43bc083d23f3d78b20/5D2E26A6/t51.2885-15/e35/c162.0.755.755/s150x150/28765324_885133374944683_3030197369762217984_n.jpg?_nc_ht=scontent.cdninstagram.com', 'ts': '1521740735', 'link': 'https://www.instagram.com/p/BgomWV6FxP4/'}, {'image': 'https://scontent.cdninstagram.com/vp/e48d98d0d9e481fa08a9354c18673996/5D48D893/t51.2885-15/sh0.08/e35/p640x640/29415892_1628041633952460_5799756234009608192_n.jpg?_nc_ht=scontent.cdninstagram.com', 'thumbnail': 'https://scontent.cdninstagram.com/vp/28ff7dab6b1280b9f184137034f0d94c/5D3C2BF6/t51.2885-15/e35/c0.135.1080.1080/s150x150/29415892_1628041633952460_5799756234009608192_n.jpg?_nc_ht=scontent.cdninstagram.com', 'ts': '1521707800', 'link': 'https://www.instagram.com/p/Bgnnh-lFFFC/'}, {'image': 'https://scontent.cdninstagram.com/vp/ad7264215b54471aca070d6170d0445d/5D48E961/t51.2885-15/sh0.08/e35/s640x640/28764830_264706924068055_8895318775474159616_n.jpg?_nc_ht=scontent.cdninstagram.com', 'thumbnail': 'https://scontent.cdninstagram.com/vp/54d6010e4772d4ebca30e626b00ca92b/5D3A84C6/t51.2885-15/e35/s150x150/28764830_264706924068055_8895318775474159616_n.jpg?_nc_ht=scontent.cdninstagram.com', 'ts': '1521366793', 'link': 'https://www.instagram.com/p/BgddHHmnMYr/'}, {'image': 'https://scontent.cdninstagram.com/vp/23e20c0382ab7d4d65ab576830090dc7/5D38AA11/t51.2885-15/sh0.08/e35/s640x640/28150974_152930208705139_6786279603078955008_n.jpg?_nc_ht=scontent.cdninstagram.com', 'thumbnail': 'https://scontent.cdninstagram.com/vp/b73481205082a217e96b47513e2b637c/5D7568C1/t51.2885-15/e35/c135.0.809.809/s150x150/28150974_152930208705139_6786279603078955008_n.jpg?_nc_ht=scontent.cdninstagram.com', 'ts': '1519918949', 'link': 'https://www.instagram.com/p/BfyTkXiF6Gl/'}], 'media_count': 470, 'profile_picture': 'https://scontent.cdninstagram.com/vp/390a6f58f9e610c27cbc33dfc0d53c57/5D417FC8/t51.2885-19/s150x150/31496464_2001819566759987_1731855844540153856_n.jpg?_nc_ht=scontent.cdninstagram.com', 'username': 'Tinder'}, 'jobs': [{'company': {'name': 'Еврейский музей и центр толерантности'}}], 'schools': [{'name': 'Психология'}], 'teaser': {'type': 'position', 'string': 'Еврейский музей и центр толерантности'}, 'teasers': [{'type': 'position', 'string': 'Еврейский музей и центр толерантности'}, {'type': 'school', 'string': 'Психология'}], 'gender': 1, 'birth_date_info': 'fuzzy birthdate active, not displaying real birth_date', 's_number': 292070403}\n"
     ]
    }
   ],
   "source": [
    "for user in db.users.find():\n",
    "    print (user)"
   ]
  },
  {
   "cell_type": "code",
   "execution_count": 34,
   "metadata": {},
   "outputs": [
    {
     "name": "stdout",
     "output_type": "stream",
     "text": [
      "testdb.users\n"
     ]
    }
   ],
   "source": [
    "print (db.users.full_name)"
   ]
  },
  {
   "cell_type": "code",
   "execution_count": null,
   "metadata": {},
   "outputs": [],
   "source": []
  },
  {
   "cell_type": "code",
   "execution_count": null,
   "metadata": {},
   "outputs": [],
   "source": []
  },
  {
   "cell_type": "code",
   "execution_count": null,
   "metadata": {},
   "outputs": [],
   "source": []
  },
  {
   "cell_type": "code",
   "execution_count": 17,
   "metadata": {},
   "outputs": [
    {
     "name": "stdout",
     "output_type": "stream",
     "text": [
      "Collecting json\n",
      "\u001b[31m  Could not find a version that satisfies the requirement json (from versions: )\u001b[0m\n",
      "\u001b[31mNo matching distribution found for json\u001b[0m\n",
      "\u001b[33mYou are using pip version 19.0.3, however version 19.1.1 is available.\n",
      "You should consider upgrading via the 'pip install --upgrade pip' command.\u001b[0m\n"
     ]
    }
   ],
   "source": [
    "!pip install --upgrade json"
   ]
  },
  {
   "cell_type": "code",
   "execution_count": null,
   "metadata": {},
   "outputs": [],
   "source": []
  },
  {
   "cell_type": "code",
   "execution_count": 7,
   "metadata": {},
   "outputs": [],
   "source": [
    "import ast"
   ]
  },
  {
   "cell_type": "code",
   "execution_count": 9,
   "metadata": {},
   "outputs": [
    {
     "ename": "ValueError",
     "evalue": "malformed node or string: <_ast.Attribute object at 0x7fbf34e16898>",
     "output_type": "error",
     "traceback": [
      "\u001b[0;31m---------------------------------------------------------------------------\u001b[0m",
      "\u001b[0;31mValueError\u001b[0m                                Traceback (most recent call last)",
      "\u001b[0;32m<ipython-input-9-7cb8d8fd5e74>\u001b[0m in \u001b[0;36m<module>\u001b[0;34m()\u001b[0m\n\u001b[0;32m----> 1\u001b[0;31m \u001b[0mast\u001b[0m\u001b[0;34m.\u001b[0m\u001b[0mliteral_eval\u001b[0m\u001b[0;34m(\u001b[0m\u001b[0;34m'tinder_data.json'\u001b[0m\u001b[0;34m)\u001b[0m\u001b[0;34m\u001b[0m\u001b[0m\n\u001b[0m",
      "\u001b[0;32m~/anaconda3/lib/python3.6/ast.py\u001b[0m in \u001b[0;36mliteral_eval\u001b[0;34m(node_or_string)\u001b[0m\n\u001b[1;32m     83\u001b[0m                     \u001b[0;32mreturn\u001b[0m \u001b[0mleft\u001b[0m \u001b[0;34m-\u001b[0m \u001b[0mright\u001b[0m\u001b[0;34m\u001b[0m\u001b[0m\n\u001b[1;32m     84\u001b[0m         \u001b[0;32mraise\u001b[0m \u001b[0mValueError\u001b[0m\u001b[0;34m(\u001b[0m\u001b[0;34m'malformed node or string: '\u001b[0m \u001b[0;34m+\u001b[0m \u001b[0mrepr\u001b[0m\u001b[0;34m(\u001b[0m\u001b[0mnode\u001b[0m\u001b[0;34m)\u001b[0m\u001b[0;34m)\u001b[0m\u001b[0;34m\u001b[0m\u001b[0m\n\u001b[0;32m---> 85\u001b[0;31m     \u001b[0;32mreturn\u001b[0m \u001b[0m_convert\u001b[0m\u001b[0;34m(\u001b[0m\u001b[0mnode_or_string\u001b[0m\u001b[0;34m)\u001b[0m\u001b[0;34m\u001b[0m\u001b[0m\n\u001b[0m\u001b[1;32m     86\u001b[0m \u001b[0;34m\u001b[0m\u001b[0m\n\u001b[1;32m     87\u001b[0m \u001b[0;34m\u001b[0m\u001b[0m\n",
      "\u001b[0;32m~/anaconda3/lib/python3.6/ast.py\u001b[0m in \u001b[0;36m_convert\u001b[0;34m(node)\u001b[0m\n\u001b[1;32m     82\u001b[0m                 \u001b[0;32melse\u001b[0m\u001b[0;34m:\u001b[0m\u001b[0;34m\u001b[0m\u001b[0m\n\u001b[1;32m     83\u001b[0m                     \u001b[0;32mreturn\u001b[0m \u001b[0mleft\u001b[0m \u001b[0;34m-\u001b[0m \u001b[0mright\u001b[0m\u001b[0;34m\u001b[0m\u001b[0m\n\u001b[0;32m---> 84\u001b[0;31m         \u001b[0;32mraise\u001b[0m \u001b[0mValueError\u001b[0m\u001b[0;34m(\u001b[0m\u001b[0;34m'malformed node or string: '\u001b[0m \u001b[0;34m+\u001b[0m \u001b[0mrepr\u001b[0m\u001b[0;34m(\u001b[0m\u001b[0mnode\u001b[0m\u001b[0;34m)\u001b[0m\u001b[0;34m)\u001b[0m\u001b[0;34m\u001b[0m\u001b[0m\n\u001b[0m\u001b[1;32m     85\u001b[0m     \u001b[0;32mreturn\u001b[0m \u001b[0m_convert\u001b[0m\u001b[0;34m(\u001b[0m\u001b[0mnode_or_string\u001b[0m\u001b[0;34m)\u001b[0m\u001b[0;34m\u001b[0m\u001b[0m\n\u001b[1;32m     86\u001b[0m \u001b[0;34m\u001b[0m\u001b[0m\n",
      "\u001b[0;31mValueError\u001b[0m: malformed node or string: <_ast.Attribute object at 0x7fbf34e16898>"
     ]
    }
   ],
   "source": [
    "ast.literal_eval('tinder_data.json')"
   ]
  },
  {
   "cell_type": "code",
   "execution_count": 6,
   "metadata": {},
   "outputs": [
    {
     "name": "stdout",
     "output_type": "stream",
     "text": [
      "{'status': 200,\r\n",
      " 'results': [{'group_matched': False,\r\n",
      "   'distance_mi': 1,\r\n",
      "   'content_hash': 'JYXCp2sjLUgFjdT4AhGqs49U5ohqQt5DF9jCMSlQugsm2',\r\n",
      "   'common_friends': [],\r\n",
      "   'common_likes': [],\r\n",
      "   'common_friend_count': 0,\r\n",
      "   'common_like_count': 0,\r\n",
      "   'connection_count': 0,\r\n",
      "   '_id': '5ca4c8f1e9a26316002be8be',\r\n"
     ]
    }
   ],
   "source": [
    "! head tinder_data.json"
   ]
  },
  {
   "cell_type": "code",
   "execution_count": null,
   "metadata": {},
   "outputs": [],
   "source": [
    "json.dumps(response_item, ensure_ascii=False).encode('utf8')"
   ]
  },
  {
   "cell_type": "code",
   "execution_count": null,
   "metadata": {},
   "outputs": [],
   "source": [
    "import pandas as pd\n",
    "import json\n",
    "\n",
    "with open('tinder_data.json', encoding='utf_8') as f:\n",
    "#    data = json.load(f)\n",
    "    dict_ = ast.literal_eval(f)\n",
    "print (dict_)\n"
   ]
  },
  {
   "cell_type": "code",
   "execution_count": 24,
   "metadata": {},
   "outputs": [
    {
     "ename": "JSONDecodeError",
     "evalue": "Expecting property name enclosed in double quotes: line 1 column 2 (char 1)",
     "output_type": "error",
     "traceback": [
      "\u001b[0;31m---------------------------------------------------------------------------\u001b[0m",
      "\u001b[0;31mJSONDecodeError\u001b[0m                           Traceback (most recent call last)",
      "\u001b[0;32m<ipython-input-24-a44b14d3273e>\u001b[0m in \u001b[0;36m<module>\u001b[0;34m()\u001b[0m\n\u001b[1;32m      4\u001b[0m \u001b[0;32mwith\u001b[0m \u001b[0mopen\u001b[0m\u001b[0;34m(\u001b[0m\u001b[0;34m'tinder_data.json'\u001b[0m\u001b[0;34m,\u001b[0m \u001b[0mencoding\u001b[0m\u001b[0;34m=\u001b[0m\u001b[0;34m'utf_8'\u001b[0m\u001b[0;34m)\u001b[0m \u001b[0;32mas\u001b[0m \u001b[0mf\u001b[0m\u001b[0;34m:\u001b[0m\u001b[0;34m\u001b[0m\u001b[0m\n\u001b[1;32m      5\u001b[0m \u001b[0;31m#    data = json.load(f)\u001b[0m\u001b[0;34m\u001b[0m\u001b[0;34m\u001b[0m\u001b[0m\n\u001b[0;32m----> 6\u001b[0;31m     \u001b[0mdict_\u001b[0m \u001b[0;34m=\u001b[0m \u001b[0mast\u001b[0m\u001b[0;34m.\u001b[0m\u001b[0mliteral_eval\u001b[0m\u001b[0;34m(\u001b[0m\u001b[0mjson\u001b[0m\u001b[0;34m.\u001b[0m\u001b[0mload\u001b[0m\u001b[0;34m(\u001b[0m\u001b[0mf\u001b[0m\u001b[0;34m)\u001b[0m\u001b[0;34m.\u001b[0m\u001b[0mencode\u001b[0m\u001b[0;34m(\u001b[0m\u001b[0;34m'utf8'\u001b[0m\u001b[0;34m)\u001b[0m\u001b[0;34m)\u001b[0m\u001b[0;34m\u001b[0m\u001b[0m\n\u001b[0m\u001b[1;32m      7\u001b[0m \u001b[0mprint\u001b[0m \u001b[0;34m(\u001b[0m\u001b[0mdict_\u001b[0m\u001b[0;34m)\u001b[0m\u001b[0;34m\u001b[0m\u001b[0m\n\u001b[1;32m      8\u001b[0m \u001b[0;31m#[{u'city': u'ab', u'medium': u'iPhone', u'request_date': u'2014-06-17', u'price': 1.1, u'Weekly_pct': 46.2, u'value': 4.7, u'%price': 15.4, u'avg_price': 5.0, u'date': u'2014-01-25', u'avg_dist': 3.67, u'type': True, u'trips': 4}, {u'city': u'bc', u'medium': u'Android', u'request_date': u'2014-05-05', u'price': 1.0, u'weekly_pct': 50.0, u'value': 5.0, u'%price': 0.0, u'avg_price': 5.0, u'date': u'2014-01-29', u'avg_dist': 8.26, u'type': False, u'trips': 0}]\u001b[0m\u001b[0;34m\u001b[0m\u001b[0;34m\u001b[0m\u001b[0m\n",
      "\u001b[0;32m~/anaconda3/lib/python3.6/json/__init__.py\u001b[0m in \u001b[0;36mload\u001b[0;34m(fp, cls, object_hook, parse_float, parse_int, parse_constant, object_pairs_hook, **kw)\u001b[0m\n\u001b[1;32m    297\u001b[0m         \u001b[0mcls\u001b[0m\u001b[0;34m=\u001b[0m\u001b[0mcls\u001b[0m\u001b[0;34m,\u001b[0m \u001b[0mobject_hook\u001b[0m\u001b[0;34m=\u001b[0m\u001b[0mobject_hook\u001b[0m\u001b[0;34m,\u001b[0m\u001b[0;34m\u001b[0m\u001b[0m\n\u001b[1;32m    298\u001b[0m         \u001b[0mparse_float\u001b[0m\u001b[0;34m=\u001b[0m\u001b[0mparse_float\u001b[0m\u001b[0;34m,\u001b[0m \u001b[0mparse_int\u001b[0m\u001b[0;34m=\u001b[0m\u001b[0mparse_int\u001b[0m\u001b[0;34m,\u001b[0m\u001b[0;34m\u001b[0m\u001b[0m\n\u001b[0;32m--> 299\u001b[0;31m         parse_constant=parse_constant, object_pairs_hook=object_pairs_hook, **kw)\n\u001b[0m\u001b[1;32m    300\u001b[0m \u001b[0;34m\u001b[0m\u001b[0m\n\u001b[1;32m    301\u001b[0m \u001b[0;34m\u001b[0m\u001b[0m\n",
      "\u001b[0;32m~/anaconda3/lib/python3.6/json/__init__.py\u001b[0m in \u001b[0;36mloads\u001b[0;34m(s, encoding, cls, object_hook, parse_float, parse_int, parse_constant, object_pairs_hook, **kw)\u001b[0m\n\u001b[1;32m    352\u001b[0m             \u001b[0mparse_int\u001b[0m \u001b[0;32mis\u001b[0m \u001b[0;32mNone\u001b[0m \u001b[0;32mand\u001b[0m \u001b[0mparse_float\u001b[0m \u001b[0;32mis\u001b[0m \u001b[0;32mNone\u001b[0m \u001b[0;32mand\u001b[0m\u001b[0;34m\u001b[0m\u001b[0m\n\u001b[1;32m    353\u001b[0m             parse_constant is None and object_pairs_hook is None and not kw):\n\u001b[0;32m--> 354\u001b[0;31m         \u001b[0;32mreturn\u001b[0m \u001b[0m_default_decoder\u001b[0m\u001b[0;34m.\u001b[0m\u001b[0mdecode\u001b[0m\u001b[0;34m(\u001b[0m\u001b[0ms\u001b[0m\u001b[0;34m)\u001b[0m\u001b[0;34m\u001b[0m\u001b[0m\n\u001b[0m\u001b[1;32m    355\u001b[0m     \u001b[0;32mif\u001b[0m \u001b[0mcls\u001b[0m \u001b[0;32mis\u001b[0m \u001b[0;32mNone\u001b[0m\u001b[0;34m:\u001b[0m\u001b[0;34m\u001b[0m\u001b[0m\n\u001b[1;32m    356\u001b[0m         \u001b[0mcls\u001b[0m \u001b[0;34m=\u001b[0m \u001b[0mJSONDecoder\u001b[0m\u001b[0;34m\u001b[0m\u001b[0m\n",
      "\u001b[0;32m~/anaconda3/lib/python3.6/json/decoder.py\u001b[0m in \u001b[0;36mdecode\u001b[0;34m(self, s, _w)\u001b[0m\n\u001b[1;32m    337\u001b[0m \u001b[0;34m\u001b[0m\u001b[0m\n\u001b[1;32m    338\u001b[0m         \"\"\"\n\u001b[0;32m--> 339\u001b[0;31m         \u001b[0mobj\u001b[0m\u001b[0;34m,\u001b[0m \u001b[0mend\u001b[0m \u001b[0;34m=\u001b[0m \u001b[0mself\u001b[0m\u001b[0;34m.\u001b[0m\u001b[0mraw_decode\u001b[0m\u001b[0;34m(\u001b[0m\u001b[0ms\u001b[0m\u001b[0;34m,\u001b[0m \u001b[0midx\u001b[0m\u001b[0;34m=\u001b[0m\u001b[0m_w\u001b[0m\u001b[0;34m(\u001b[0m\u001b[0ms\u001b[0m\u001b[0;34m,\u001b[0m \u001b[0;36m0\u001b[0m\u001b[0;34m)\u001b[0m\u001b[0;34m.\u001b[0m\u001b[0mend\u001b[0m\u001b[0;34m(\u001b[0m\u001b[0;34m)\u001b[0m\u001b[0;34m)\u001b[0m\u001b[0;34m\u001b[0m\u001b[0m\n\u001b[0m\u001b[1;32m    340\u001b[0m         \u001b[0mend\u001b[0m \u001b[0;34m=\u001b[0m \u001b[0m_w\u001b[0m\u001b[0;34m(\u001b[0m\u001b[0ms\u001b[0m\u001b[0;34m,\u001b[0m \u001b[0mend\u001b[0m\u001b[0;34m)\u001b[0m\u001b[0;34m.\u001b[0m\u001b[0mend\u001b[0m\u001b[0;34m(\u001b[0m\u001b[0;34m)\u001b[0m\u001b[0;34m\u001b[0m\u001b[0m\n\u001b[1;32m    341\u001b[0m         \u001b[0;32mif\u001b[0m \u001b[0mend\u001b[0m \u001b[0;34m!=\u001b[0m \u001b[0mlen\u001b[0m\u001b[0;34m(\u001b[0m\u001b[0ms\u001b[0m\u001b[0;34m)\u001b[0m\u001b[0;34m:\u001b[0m\u001b[0;34m\u001b[0m\u001b[0m\n",
      "\u001b[0;32m~/anaconda3/lib/python3.6/json/decoder.py\u001b[0m in \u001b[0;36mraw_decode\u001b[0;34m(self, s, idx)\u001b[0m\n\u001b[1;32m    353\u001b[0m         \"\"\"\n\u001b[1;32m    354\u001b[0m         \u001b[0;32mtry\u001b[0m\u001b[0;34m:\u001b[0m\u001b[0;34m\u001b[0m\u001b[0m\n\u001b[0;32m--> 355\u001b[0;31m             \u001b[0mobj\u001b[0m\u001b[0;34m,\u001b[0m \u001b[0mend\u001b[0m \u001b[0;34m=\u001b[0m \u001b[0mself\u001b[0m\u001b[0;34m.\u001b[0m\u001b[0mscan_once\u001b[0m\u001b[0;34m(\u001b[0m\u001b[0ms\u001b[0m\u001b[0;34m,\u001b[0m \u001b[0midx\u001b[0m\u001b[0;34m)\u001b[0m\u001b[0;34m\u001b[0m\u001b[0m\n\u001b[0m\u001b[1;32m    356\u001b[0m         \u001b[0;32mexcept\u001b[0m \u001b[0mStopIteration\u001b[0m \u001b[0;32mas\u001b[0m \u001b[0merr\u001b[0m\u001b[0;34m:\u001b[0m\u001b[0;34m\u001b[0m\u001b[0m\n\u001b[1;32m    357\u001b[0m             \u001b[0;32mraise\u001b[0m \u001b[0mJSONDecodeError\u001b[0m\u001b[0;34m(\u001b[0m\u001b[0;34m\"Expecting value\"\u001b[0m\u001b[0;34m,\u001b[0m \u001b[0ms\u001b[0m\u001b[0;34m,\u001b[0m \u001b[0merr\u001b[0m\u001b[0;34m.\u001b[0m\u001b[0mvalue\u001b[0m\u001b[0;34m)\u001b[0m \u001b[0;32mfrom\u001b[0m \u001b[0;32mNone\u001b[0m\u001b[0;34m\u001b[0m\u001b[0m\n",
      "\u001b[0;31mJSONDecodeError\u001b[0m: Expecting property name enclosed in double quotes: line 1 column 2 (char 1)"
     ]
    }
   ],
   "source": [
    "import pandas as pd\n",
    "import json\n",
    "\n",
    "with open('tinder_data.json', encoding='utf_8') as f:\n",
    "#    data = json.load(f)\n",
    "    dict_ = ast.literal_eval(json.load(f).encode('utf8'))\n",
    "print (dict_)\n",
    "#[{u'city': u'ab', u'medium': u'iPhone', u'request_date': u'2014-06-17', u'price': 1.1, u'Weekly_pct': 46.2, u'value': 4.7, u'%price': 15.4, u'avg_price': 5.0, u'date': u'2014-01-25', u'avg_dist': 3.67, u'type': True, u'trips': 4}, {u'city': u'bc', u'medium': u'Android', u'request_date': u'2014-05-05', u'price': 1.0, u'weekly_pct': 50.0, u'value': 5.0, u'%price': 0.0, u'avg_price': 5.0, u'date': u'2014-01-29', u'avg_dist': 8.26, u'type': False, u'trips': 0}]\n",
    "\n",
    "#print (pd.DataFrame(data))\n"
   ]
  },
  {
   "cell_type": "code",
   "execution_count": null,
   "metadata": {},
   "outputs": [],
   "source": []
  },
  {
   "cell_type": "code",
   "execution_count": null,
   "metadata": {},
   "outputs": [],
   "source": []
  },
  {
   "cell_type": "code",
   "execution_count": 11,
   "metadata": {},
   "outputs": [
    {
     "name": "stdout",
     "output_type": "stream",
     "text": [
      "api_tinder.ipynb  MongoDB.ipynb  SQL_save_tinder_date_in_db.ipynb\r\n",
      "config.py\t  MySQL.ipynb\t tinder_data.json\r\n",
      "fb_auth_token.py  __pycache__\t tinder_db.db\r\n"
     ]
    }
   ],
   "source": []
  },
  {
   "cell_type": "code",
   "execution_count": 11,
   "metadata": {},
   "outputs": [
    {
     "ename": "NameError",
     "evalue": "name 'tinder_data' is not defined",
     "output_type": "error",
     "traceback": [
      "\u001b[0;31m---------------------------------------------------------------------------\u001b[0m",
      "\u001b[0;31mNameError\u001b[0m                                 Traceback (most recent call last)",
      "\u001b[0;32m<ipython-input-11-cf9ac929aeb8>\u001b[0m in \u001b[0;36m<module>\u001b[0;34m()\u001b[0m\n\u001b[0;32m----> 1\u001b[0;31m \u001b[0mfile\u001b[0m \u001b[0;34m=\u001b[0m \u001b[0mtinder_data\u001b[0m\u001b[0;34m.\u001b[0m\u001b[0mjson\u001b[0m\u001b[0;34m\u001b[0m\u001b[0m\n\u001b[0m\u001b[1;32m      2\u001b[0m \u001b[0mdata\u001b[0m \u001b[0;34m=\u001b[0m \u001b[0mpd\u001b[0m\u001b[0;34m.\u001b[0m\u001b[0mread_json\u001b[0m\u001b[0;34m(\u001b[0m\u001b[0mfile\u001b[0m\u001b[0;34m,\u001b[0m \u001b[0mlines\u001b[0m\u001b[0;34m=\u001b[0m\u001b[0;32mFalse\u001b[0m\u001b[0;34m)\u001b[0m\u001b[0;34m\u001b[0m\u001b[0m\n",
      "\u001b[0;31mNameError\u001b[0m: name 'tinder_data' is not defined"
     ]
    }
   ],
   "source": [
    "file = 'tinder_data.json'\n",
    "data = pd.read_json(file, lines=False)"
   ]
  },
  {
   "cell_type": "code",
   "execution_count": 7,
   "metadata": {},
   "outputs": [
    {
     "ename": "JSONDecodeError",
     "evalue": "Expecting property name enclosed in double quotes: line 1 column 2 (char 1)",
     "output_type": "error",
     "traceback": [
      "\u001b[0;31m---------------------------------------------------------------------------\u001b[0m",
      "\u001b[0;31mJSONDecodeError\u001b[0m                           Traceback (most recent call last)",
      "\u001b[0;32m<ipython-input-7-d1f1277bd281>\u001b[0m in \u001b[0;36m<module>\u001b[0;34m()\u001b[0m\n\u001b[1;32m      1\u001b[0m \u001b[0;31m# Read a json file\u001b[0m\u001b[0;34m\u001b[0m\u001b[0;34m\u001b[0m\u001b[0m\n\u001b[1;32m      2\u001b[0m \u001b[0;32mwith\u001b[0m \u001b[0mopen\u001b[0m\u001b[0;34m(\u001b[0m\u001b[0;34m'tinder_data.json'\u001b[0m\u001b[0;34m,\u001b[0m \u001b[0;34m'r'\u001b[0m\u001b[0;34m)\u001b[0m \u001b[0;32mas\u001b[0m \u001b[0mf\u001b[0m\u001b[0;34m:\u001b[0m\u001b[0;34m\u001b[0m\u001b[0m\n\u001b[0;32m----> 3\u001b[0;31m     \u001b[0mdistros_dict\u001b[0m \u001b[0;34m=\u001b[0m \u001b[0mjson\u001b[0m\u001b[0;34m.\u001b[0m\u001b[0mload\u001b[0m\u001b[0;34m(\u001b[0m\u001b[0mf\u001b[0m\u001b[0;34m)\u001b[0m\u001b[0;34m\u001b[0m\u001b[0m\n\u001b[0m",
      "\u001b[0;32m~/anaconda3/lib/python3.6/json/__init__.py\u001b[0m in \u001b[0;36mload\u001b[0;34m(fp, cls, object_hook, parse_float, parse_int, parse_constant, object_pairs_hook, **kw)\u001b[0m\n\u001b[1;32m    297\u001b[0m         \u001b[0mcls\u001b[0m\u001b[0;34m=\u001b[0m\u001b[0mcls\u001b[0m\u001b[0;34m,\u001b[0m \u001b[0mobject_hook\u001b[0m\u001b[0;34m=\u001b[0m\u001b[0mobject_hook\u001b[0m\u001b[0;34m,\u001b[0m\u001b[0;34m\u001b[0m\u001b[0m\n\u001b[1;32m    298\u001b[0m         \u001b[0mparse_float\u001b[0m\u001b[0;34m=\u001b[0m\u001b[0mparse_float\u001b[0m\u001b[0;34m,\u001b[0m \u001b[0mparse_int\u001b[0m\u001b[0;34m=\u001b[0m\u001b[0mparse_int\u001b[0m\u001b[0;34m,\u001b[0m\u001b[0;34m\u001b[0m\u001b[0m\n\u001b[0;32m--> 299\u001b[0;31m         parse_constant=parse_constant, object_pairs_hook=object_pairs_hook, **kw)\n\u001b[0m\u001b[1;32m    300\u001b[0m \u001b[0;34m\u001b[0m\u001b[0m\n\u001b[1;32m    301\u001b[0m \u001b[0;34m\u001b[0m\u001b[0m\n",
      "\u001b[0;32m~/anaconda3/lib/python3.6/json/__init__.py\u001b[0m in \u001b[0;36mloads\u001b[0;34m(s, encoding, cls, object_hook, parse_float, parse_int, parse_constant, object_pairs_hook, **kw)\u001b[0m\n\u001b[1;32m    352\u001b[0m             \u001b[0mparse_int\u001b[0m \u001b[0;32mis\u001b[0m \u001b[0;32mNone\u001b[0m \u001b[0;32mand\u001b[0m \u001b[0mparse_float\u001b[0m \u001b[0;32mis\u001b[0m \u001b[0;32mNone\u001b[0m \u001b[0;32mand\u001b[0m\u001b[0;34m\u001b[0m\u001b[0m\n\u001b[1;32m    353\u001b[0m             parse_constant is None and object_pairs_hook is None and not kw):\n\u001b[0;32m--> 354\u001b[0;31m         \u001b[0;32mreturn\u001b[0m \u001b[0m_default_decoder\u001b[0m\u001b[0;34m.\u001b[0m\u001b[0mdecode\u001b[0m\u001b[0;34m(\u001b[0m\u001b[0ms\u001b[0m\u001b[0;34m)\u001b[0m\u001b[0;34m\u001b[0m\u001b[0m\n\u001b[0m\u001b[1;32m    355\u001b[0m     \u001b[0;32mif\u001b[0m \u001b[0mcls\u001b[0m \u001b[0;32mis\u001b[0m \u001b[0;32mNone\u001b[0m\u001b[0;34m:\u001b[0m\u001b[0;34m\u001b[0m\u001b[0m\n\u001b[1;32m    356\u001b[0m         \u001b[0mcls\u001b[0m \u001b[0;34m=\u001b[0m \u001b[0mJSONDecoder\u001b[0m\u001b[0;34m\u001b[0m\u001b[0m\n",
      "\u001b[0;32m~/anaconda3/lib/python3.6/json/decoder.py\u001b[0m in \u001b[0;36mdecode\u001b[0;34m(self, s, _w)\u001b[0m\n\u001b[1;32m    337\u001b[0m \u001b[0;34m\u001b[0m\u001b[0m\n\u001b[1;32m    338\u001b[0m         \"\"\"\n\u001b[0;32m--> 339\u001b[0;31m         \u001b[0mobj\u001b[0m\u001b[0;34m,\u001b[0m \u001b[0mend\u001b[0m \u001b[0;34m=\u001b[0m \u001b[0mself\u001b[0m\u001b[0;34m.\u001b[0m\u001b[0mraw_decode\u001b[0m\u001b[0;34m(\u001b[0m\u001b[0ms\u001b[0m\u001b[0;34m,\u001b[0m \u001b[0midx\u001b[0m\u001b[0;34m=\u001b[0m\u001b[0m_w\u001b[0m\u001b[0;34m(\u001b[0m\u001b[0ms\u001b[0m\u001b[0;34m,\u001b[0m \u001b[0;36m0\u001b[0m\u001b[0;34m)\u001b[0m\u001b[0;34m.\u001b[0m\u001b[0mend\u001b[0m\u001b[0;34m(\u001b[0m\u001b[0;34m)\u001b[0m\u001b[0;34m)\u001b[0m\u001b[0;34m\u001b[0m\u001b[0m\n\u001b[0m\u001b[1;32m    340\u001b[0m         \u001b[0mend\u001b[0m \u001b[0;34m=\u001b[0m \u001b[0m_w\u001b[0m\u001b[0;34m(\u001b[0m\u001b[0ms\u001b[0m\u001b[0;34m,\u001b[0m \u001b[0mend\u001b[0m\u001b[0;34m)\u001b[0m\u001b[0;34m.\u001b[0m\u001b[0mend\u001b[0m\u001b[0;34m(\u001b[0m\u001b[0;34m)\u001b[0m\u001b[0;34m\u001b[0m\u001b[0m\n\u001b[1;32m    341\u001b[0m         \u001b[0;32mif\u001b[0m \u001b[0mend\u001b[0m \u001b[0;34m!=\u001b[0m \u001b[0mlen\u001b[0m\u001b[0;34m(\u001b[0m\u001b[0ms\u001b[0m\u001b[0;34m)\u001b[0m\u001b[0;34m:\u001b[0m\u001b[0;34m\u001b[0m\u001b[0m\n",
      "\u001b[0;32m~/anaconda3/lib/python3.6/json/decoder.py\u001b[0m in \u001b[0;36mraw_decode\u001b[0;34m(self, s, idx)\u001b[0m\n\u001b[1;32m    353\u001b[0m         \"\"\"\n\u001b[1;32m    354\u001b[0m         \u001b[0;32mtry\u001b[0m\u001b[0;34m:\u001b[0m\u001b[0;34m\u001b[0m\u001b[0m\n\u001b[0;32m--> 355\u001b[0;31m             \u001b[0mobj\u001b[0m\u001b[0;34m,\u001b[0m \u001b[0mend\u001b[0m \u001b[0;34m=\u001b[0m \u001b[0mself\u001b[0m\u001b[0;34m.\u001b[0m\u001b[0mscan_once\u001b[0m\u001b[0;34m(\u001b[0m\u001b[0ms\u001b[0m\u001b[0;34m,\u001b[0m \u001b[0midx\u001b[0m\u001b[0;34m)\u001b[0m\u001b[0;34m\u001b[0m\u001b[0m\n\u001b[0m\u001b[1;32m    356\u001b[0m         \u001b[0;32mexcept\u001b[0m \u001b[0mStopIteration\u001b[0m \u001b[0;32mas\u001b[0m \u001b[0merr\u001b[0m\u001b[0;34m:\u001b[0m\u001b[0;34m\u001b[0m\u001b[0m\n\u001b[1;32m    357\u001b[0m             \u001b[0;32mraise\u001b[0m \u001b[0mJSONDecodeError\u001b[0m\u001b[0;34m(\u001b[0m\u001b[0;34m\"Expecting value\"\u001b[0m\u001b[0;34m,\u001b[0m \u001b[0ms\u001b[0m\u001b[0;34m,\u001b[0m \u001b[0merr\u001b[0m\u001b[0;34m.\u001b[0m\u001b[0mvalue\u001b[0m\u001b[0;34m)\u001b[0m \u001b[0;32mfrom\u001b[0m \u001b[0;32mNone\u001b[0m\u001b[0;34m\u001b[0m\u001b[0m\n",
      "\u001b[0;31mJSONDecodeError\u001b[0m: Expecting property name enclosed in double quotes: line 1 column 2 (char 1)"
     ]
    }
   ],
   "source": [
    "# Read a json file\n",
    "with open('tinder_data.json', 'r') as f:\n",
    "    distros_dict = json.load(f)"
   ]
  },
  {
   "cell_type": "code",
   "execution_count": null,
   "metadata": {},
   "outputs": [],
   "source": []
  },
  {
   "cell_type": "code",
   "execution_count": 14,
   "metadata": {},
   "outputs": [
    {
     "ename": "JSONDecodeError",
     "evalue": "Expecting property name enclosed in double quotes: line 1 column 2 (char 1)",
     "output_type": "error",
     "traceback": [
      "\u001b[0;31m---------------------------------------------------------------------------\u001b[0m",
      "\u001b[0;31mJSONDecodeError\u001b[0m                           Traceback (most recent call last)",
      "\u001b[0;32m<ipython-input-14-90cbe278b51e>\u001b[0m in \u001b[0;36m<module>\u001b[0;34m()\u001b[0m\n\u001b[1;32m      1\u001b[0m \u001b[0;32mwith\u001b[0m \u001b[0mopen\u001b[0m\u001b[0;34m(\u001b[0m\u001b[0;34m'tinder_data.json'\u001b[0m\u001b[0;34m)\u001b[0m \u001b[0;32mas\u001b[0m \u001b[0mf\u001b[0m\u001b[0;34m:\u001b[0m\u001b[0;34m\u001b[0m\u001b[0m\n\u001b[0;32m----> 2\u001b[0;31m     \u001b[0mfile_data\u001b[0m \u001b[0;34m=\u001b[0m \u001b[0mjson\u001b[0m\u001b[0;34m.\u001b[0m\u001b[0mload\u001b[0m\u001b[0;34m(\u001b[0m\u001b[0mf\u001b[0m\u001b[0;34m)\u001b[0m\u001b[0;34m\u001b[0m\u001b[0m\n\u001b[0m",
      "\u001b[0;32m~/anaconda3/lib/python3.6/json/__init__.py\u001b[0m in \u001b[0;36mload\u001b[0;34m(fp, cls, object_hook, parse_float, parse_int, parse_constant, object_pairs_hook, **kw)\u001b[0m\n\u001b[1;32m    297\u001b[0m         \u001b[0mcls\u001b[0m\u001b[0;34m=\u001b[0m\u001b[0mcls\u001b[0m\u001b[0;34m,\u001b[0m \u001b[0mobject_hook\u001b[0m\u001b[0;34m=\u001b[0m\u001b[0mobject_hook\u001b[0m\u001b[0;34m,\u001b[0m\u001b[0;34m\u001b[0m\u001b[0m\n\u001b[1;32m    298\u001b[0m         \u001b[0mparse_float\u001b[0m\u001b[0;34m=\u001b[0m\u001b[0mparse_float\u001b[0m\u001b[0;34m,\u001b[0m \u001b[0mparse_int\u001b[0m\u001b[0;34m=\u001b[0m\u001b[0mparse_int\u001b[0m\u001b[0;34m,\u001b[0m\u001b[0;34m\u001b[0m\u001b[0m\n\u001b[0;32m--> 299\u001b[0;31m         parse_constant=parse_constant, object_pairs_hook=object_pairs_hook, **kw)\n\u001b[0m\u001b[1;32m    300\u001b[0m \u001b[0;34m\u001b[0m\u001b[0m\n\u001b[1;32m    301\u001b[0m \u001b[0;34m\u001b[0m\u001b[0m\n",
      "\u001b[0;32m~/anaconda3/lib/python3.6/json/__init__.py\u001b[0m in \u001b[0;36mloads\u001b[0;34m(s, encoding, cls, object_hook, parse_float, parse_int, parse_constant, object_pairs_hook, **kw)\u001b[0m\n\u001b[1;32m    352\u001b[0m             \u001b[0mparse_int\u001b[0m \u001b[0;32mis\u001b[0m \u001b[0;32mNone\u001b[0m \u001b[0;32mand\u001b[0m \u001b[0mparse_float\u001b[0m \u001b[0;32mis\u001b[0m \u001b[0;32mNone\u001b[0m \u001b[0;32mand\u001b[0m\u001b[0;34m\u001b[0m\u001b[0m\n\u001b[1;32m    353\u001b[0m             parse_constant is None and object_pairs_hook is None and not kw):\n\u001b[0;32m--> 354\u001b[0;31m         \u001b[0;32mreturn\u001b[0m \u001b[0m_default_decoder\u001b[0m\u001b[0;34m.\u001b[0m\u001b[0mdecode\u001b[0m\u001b[0;34m(\u001b[0m\u001b[0ms\u001b[0m\u001b[0;34m)\u001b[0m\u001b[0;34m\u001b[0m\u001b[0m\n\u001b[0m\u001b[1;32m    355\u001b[0m     \u001b[0;32mif\u001b[0m \u001b[0mcls\u001b[0m \u001b[0;32mis\u001b[0m \u001b[0;32mNone\u001b[0m\u001b[0;34m:\u001b[0m\u001b[0;34m\u001b[0m\u001b[0m\n\u001b[1;32m    356\u001b[0m         \u001b[0mcls\u001b[0m \u001b[0;34m=\u001b[0m \u001b[0mJSONDecoder\u001b[0m\u001b[0;34m\u001b[0m\u001b[0m\n",
      "\u001b[0;32m~/anaconda3/lib/python3.6/json/decoder.py\u001b[0m in \u001b[0;36mdecode\u001b[0;34m(self, s, _w)\u001b[0m\n\u001b[1;32m    337\u001b[0m \u001b[0;34m\u001b[0m\u001b[0m\n\u001b[1;32m    338\u001b[0m         \"\"\"\n\u001b[0;32m--> 339\u001b[0;31m         \u001b[0mobj\u001b[0m\u001b[0;34m,\u001b[0m \u001b[0mend\u001b[0m \u001b[0;34m=\u001b[0m \u001b[0mself\u001b[0m\u001b[0;34m.\u001b[0m\u001b[0mraw_decode\u001b[0m\u001b[0;34m(\u001b[0m\u001b[0ms\u001b[0m\u001b[0;34m,\u001b[0m \u001b[0midx\u001b[0m\u001b[0;34m=\u001b[0m\u001b[0m_w\u001b[0m\u001b[0;34m(\u001b[0m\u001b[0ms\u001b[0m\u001b[0;34m,\u001b[0m \u001b[0;36m0\u001b[0m\u001b[0;34m)\u001b[0m\u001b[0;34m.\u001b[0m\u001b[0mend\u001b[0m\u001b[0;34m(\u001b[0m\u001b[0;34m)\u001b[0m\u001b[0;34m)\u001b[0m\u001b[0;34m\u001b[0m\u001b[0m\n\u001b[0m\u001b[1;32m    340\u001b[0m         \u001b[0mend\u001b[0m \u001b[0;34m=\u001b[0m \u001b[0m_w\u001b[0m\u001b[0;34m(\u001b[0m\u001b[0ms\u001b[0m\u001b[0;34m,\u001b[0m \u001b[0mend\u001b[0m\u001b[0;34m)\u001b[0m\u001b[0;34m.\u001b[0m\u001b[0mend\u001b[0m\u001b[0;34m(\u001b[0m\u001b[0;34m)\u001b[0m\u001b[0;34m\u001b[0m\u001b[0m\n\u001b[1;32m    341\u001b[0m         \u001b[0;32mif\u001b[0m \u001b[0mend\u001b[0m \u001b[0;34m!=\u001b[0m \u001b[0mlen\u001b[0m\u001b[0;34m(\u001b[0m\u001b[0ms\u001b[0m\u001b[0;34m)\u001b[0m\u001b[0;34m:\u001b[0m\u001b[0;34m\u001b[0m\u001b[0m\n",
      "\u001b[0;32m~/anaconda3/lib/python3.6/json/decoder.py\u001b[0m in \u001b[0;36mraw_decode\u001b[0;34m(self, s, idx)\u001b[0m\n\u001b[1;32m    353\u001b[0m         \"\"\"\n\u001b[1;32m    354\u001b[0m         \u001b[0;32mtry\u001b[0m\u001b[0;34m:\u001b[0m\u001b[0;34m\u001b[0m\u001b[0m\n\u001b[0;32m--> 355\u001b[0;31m             \u001b[0mobj\u001b[0m\u001b[0;34m,\u001b[0m \u001b[0mend\u001b[0m \u001b[0;34m=\u001b[0m \u001b[0mself\u001b[0m\u001b[0;34m.\u001b[0m\u001b[0mscan_once\u001b[0m\u001b[0;34m(\u001b[0m\u001b[0ms\u001b[0m\u001b[0;34m,\u001b[0m \u001b[0midx\u001b[0m\u001b[0;34m)\u001b[0m\u001b[0;34m\u001b[0m\u001b[0m\n\u001b[0m\u001b[1;32m    356\u001b[0m         \u001b[0;32mexcept\u001b[0m \u001b[0mStopIteration\u001b[0m \u001b[0;32mas\u001b[0m \u001b[0merr\u001b[0m\u001b[0;34m:\u001b[0m\u001b[0;34m\u001b[0m\u001b[0m\n\u001b[1;32m    357\u001b[0m             \u001b[0;32mraise\u001b[0m \u001b[0mJSONDecodeError\u001b[0m\u001b[0;34m(\u001b[0m\u001b[0;34m\"Expecting value\"\u001b[0m\u001b[0;34m,\u001b[0m \u001b[0ms\u001b[0m\u001b[0;34m,\u001b[0m \u001b[0merr\u001b[0m\u001b[0;34m.\u001b[0m\u001b[0mvalue\u001b[0m\u001b[0;34m)\u001b[0m \u001b[0;32mfrom\u001b[0m \u001b[0;32mNone\u001b[0m\u001b[0;34m\u001b[0m\u001b[0m\n",
      "\u001b[0;31mJSONDecodeError\u001b[0m: Expecting property name enclosed in double quotes: line 1 column 2 (char 1)"
     ]
    }
   ],
   "source": [
    "with open('tinder_data.json') as f:\n",
    "    file_data = json.load(f)"
   ]
  },
  {
   "cell_type": "code",
   "execution_count": null,
   "metadata": {},
   "outputs": [],
   "source": []
  },
  {
   "cell_type": "code",
   "execution_count": null,
   "metadata": {},
   "outputs": [],
   "source": []
  },
  {
   "cell_type": "code",
   "execution_count": null,
   "metadata": {},
   "outputs": [],
   "source": []
  },
  {
   "cell_type": "code",
   "execution_count": 39,
   "metadata": {},
   "outputs": [
    {
     "ename": "JSONDecodeError",
     "evalue": "Expecting property name enclosed in double quotes: line 1 column 2 (char 1)",
     "output_type": "error",
     "traceback": [
      "\u001b[0;31m---------------------------------------------------------------------------\u001b[0m",
      "\u001b[0;31mJSONDecodeError\u001b[0m                           Traceback (most recent call last)",
      "\u001b[0;32m<ipython-input-39-c7cbcd3d6b72>\u001b[0m in \u001b[0;36m<module>\u001b[0;34m()\u001b[0m\n\u001b[1;32m      2\u001b[0m \u001b[0;34m\u001b[0m\u001b[0m\n\u001b[1;32m      3\u001b[0m \u001b[0;32mwith\u001b[0m \u001b[0mopen\u001b[0m\u001b[0;34m(\u001b[0m\u001b[0;34m'tinder_data.json'\u001b[0m\u001b[0;34m)\u001b[0m \u001b[0;32mas\u001b[0m \u001b[0mf\u001b[0m\u001b[0;34m:\u001b[0m\u001b[0;34m\u001b[0m\u001b[0m\n\u001b[0;32m----> 4\u001b[0;31m     \u001b[0mfile_data\u001b[0m \u001b[0;34m=\u001b[0m \u001b[0mjson\u001b[0m\u001b[0;34m.\u001b[0m\u001b[0mload\u001b[0m\u001b[0;34m(\u001b[0m\u001b[0mf\u001b[0m\u001b[0;34m)\u001b[0m\u001b[0;34m\u001b[0m\u001b[0m\n\u001b[0m\u001b[1;32m      5\u001b[0m \u001b[0;34m\u001b[0m\u001b[0m\n\u001b[1;32m      6\u001b[0m \u001b[0mcollection_currency\u001b[0m\u001b[0;34m.\u001b[0m\u001b[0minsert\u001b[0m\u001b[0;34m(\u001b[0m\u001b[0mfile_data\u001b[0m\u001b[0;34m)\u001b[0m\u001b[0;34m\u001b[0m\u001b[0m\n",
      "\u001b[0;32m~/anaconda3/lib/python3.6/json/__init__.py\u001b[0m in \u001b[0;36mload\u001b[0;34m(fp, cls, object_hook, parse_float, parse_int, parse_constant, object_pairs_hook, **kw)\u001b[0m\n\u001b[1;32m    297\u001b[0m         \u001b[0mcls\u001b[0m\u001b[0;34m=\u001b[0m\u001b[0mcls\u001b[0m\u001b[0;34m,\u001b[0m \u001b[0mobject_hook\u001b[0m\u001b[0;34m=\u001b[0m\u001b[0mobject_hook\u001b[0m\u001b[0;34m,\u001b[0m\u001b[0;34m\u001b[0m\u001b[0m\n\u001b[1;32m    298\u001b[0m         \u001b[0mparse_float\u001b[0m\u001b[0;34m=\u001b[0m\u001b[0mparse_float\u001b[0m\u001b[0;34m,\u001b[0m \u001b[0mparse_int\u001b[0m\u001b[0;34m=\u001b[0m\u001b[0mparse_int\u001b[0m\u001b[0;34m,\u001b[0m\u001b[0;34m\u001b[0m\u001b[0m\n\u001b[0;32m--> 299\u001b[0;31m         parse_constant=parse_constant, object_pairs_hook=object_pairs_hook, **kw)\n\u001b[0m\u001b[1;32m    300\u001b[0m \u001b[0;34m\u001b[0m\u001b[0m\n\u001b[1;32m    301\u001b[0m \u001b[0;34m\u001b[0m\u001b[0m\n",
      "\u001b[0;32m~/anaconda3/lib/python3.6/json/__init__.py\u001b[0m in \u001b[0;36mloads\u001b[0;34m(s, encoding, cls, object_hook, parse_float, parse_int, parse_constant, object_pairs_hook, **kw)\u001b[0m\n\u001b[1;32m    352\u001b[0m             \u001b[0mparse_int\u001b[0m \u001b[0;32mis\u001b[0m \u001b[0;32mNone\u001b[0m \u001b[0;32mand\u001b[0m \u001b[0mparse_float\u001b[0m \u001b[0;32mis\u001b[0m \u001b[0;32mNone\u001b[0m \u001b[0;32mand\u001b[0m\u001b[0;34m\u001b[0m\u001b[0m\n\u001b[1;32m    353\u001b[0m             parse_constant is None and object_pairs_hook is None and not kw):\n\u001b[0;32m--> 354\u001b[0;31m         \u001b[0;32mreturn\u001b[0m \u001b[0m_default_decoder\u001b[0m\u001b[0;34m.\u001b[0m\u001b[0mdecode\u001b[0m\u001b[0;34m(\u001b[0m\u001b[0ms\u001b[0m\u001b[0;34m)\u001b[0m\u001b[0;34m\u001b[0m\u001b[0m\n\u001b[0m\u001b[1;32m    355\u001b[0m     \u001b[0;32mif\u001b[0m \u001b[0mcls\u001b[0m \u001b[0;32mis\u001b[0m \u001b[0;32mNone\u001b[0m\u001b[0;34m:\u001b[0m\u001b[0;34m\u001b[0m\u001b[0m\n\u001b[1;32m    356\u001b[0m         \u001b[0mcls\u001b[0m \u001b[0;34m=\u001b[0m \u001b[0mJSONDecoder\u001b[0m\u001b[0;34m\u001b[0m\u001b[0m\n",
      "\u001b[0;32m~/anaconda3/lib/python3.6/json/decoder.py\u001b[0m in \u001b[0;36mdecode\u001b[0;34m(self, s, _w)\u001b[0m\n\u001b[1;32m    337\u001b[0m \u001b[0;34m\u001b[0m\u001b[0m\n\u001b[1;32m    338\u001b[0m         \"\"\"\n\u001b[0;32m--> 339\u001b[0;31m         \u001b[0mobj\u001b[0m\u001b[0;34m,\u001b[0m \u001b[0mend\u001b[0m \u001b[0;34m=\u001b[0m \u001b[0mself\u001b[0m\u001b[0;34m.\u001b[0m\u001b[0mraw_decode\u001b[0m\u001b[0;34m(\u001b[0m\u001b[0ms\u001b[0m\u001b[0;34m,\u001b[0m \u001b[0midx\u001b[0m\u001b[0;34m=\u001b[0m\u001b[0m_w\u001b[0m\u001b[0;34m(\u001b[0m\u001b[0ms\u001b[0m\u001b[0;34m,\u001b[0m \u001b[0;36m0\u001b[0m\u001b[0;34m)\u001b[0m\u001b[0;34m.\u001b[0m\u001b[0mend\u001b[0m\u001b[0;34m(\u001b[0m\u001b[0;34m)\u001b[0m\u001b[0;34m)\u001b[0m\u001b[0;34m\u001b[0m\u001b[0m\n\u001b[0m\u001b[1;32m    340\u001b[0m         \u001b[0mend\u001b[0m \u001b[0;34m=\u001b[0m \u001b[0m_w\u001b[0m\u001b[0;34m(\u001b[0m\u001b[0ms\u001b[0m\u001b[0;34m,\u001b[0m \u001b[0mend\u001b[0m\u001b[0;34m)\u001b[0m\u001b[0;34m.\u001b[0m\u001b[0mend\u001b[0m\u001b[0;34m(\u001b[0m\u001b[0;34m)\u001b[0m\u001b[0;34m\u001b[0m\u001b[0m\n\u001b[1;32m    341\u001b[0m         \u001b[0;32mif\u001b[0m \u001b[0mend\u001b[0m \u001b[0;34m!=\u001b[0m \u001b[0mlen\u001b[0m\u001b[0;34m(\u001b[0m\u001b[0ms\u001b[0m\u001b[0;34m)\u001b[0m\u001b[0;34m:\u001b[0m\u001b[0;34m\u001b[0m\u001b[0m\n",
      "\u001b[0;32m~/anaconda3/lib/python3.6/json/decoder.py\u001b[0m in \u001b[0;36mraw_decode\u001b[0;34m(self, s, idx)\u001b[0m\n\u001b[1;32m    353\u001b[0m         \"\"\"\n\u001b[1;32m    354\u001b[0m         \u001b[0;32mtry\u001b[0m\u001b[0;34m:\u001b[0m\u001b[0;34m\u001b[0m\u001b[0m\n\u001b[0;32m--> 355\u001b[0;31m             \u001b[0mobj\u001b[0m\u001b[0;34m,\u001b[0m \u001b[0mend\u001b[0m \u001b[0;34m=\u001b[0m \u001b[0mself\u001b[0m\u001b[0;34m.\u001b[0m\u001b[0mscan_once\u001b[0m\u001b[0;34m(\u001b[0m\u001b[0ms\u001b[0m\u001b[0;34m,\u001b[0m \u001b[0midx\u001b[0m\u001b[0;34m)\u001b[0m\u001b[0;34m\u001b[0m\u001b[0m\n\u001b[0m\u001b[1;32m    356\u001b[0m         \u001b[0;32mexcept\u001b[0m \u001b[0mStopIteration\u001b[0m \u001b[0;32mas\u001b[0m \u001b[0merr\u001b[0m\u001b[0;34m:\u001b[0m\u001b[0;34m\u001b[0m\u001b[0m\n\u001b[1;32m    357\u001b[0m             \u001b[0;32mraise\u001b[0m \u001b[0mJSONDecodeError\u001b[0m\u001b[0;34m(\u001b[0m\u001b[0;34m\"Expecting value\"\u001b[0m\u001b[0;34m,\u001b[0m \u001b[0ms\u001b[0m\u001b[0;34m,\u001b[0m \u001b[0merr\u001b[0m\u001b[0;34m.\u001b[0m\u001b[0mvalue\u001b[0m\u001b[0;34m)\u001b[0m \u001b[0;32mfrom\u001b[0m \u001b[0;32mNone\u001b[0m\u001b[0;34m\u001b[0m\u001b[0m\n",
      "\u001b[0;31mJSONDecodeError\u001b[0m: Expecting property name enclosed in double quotes: line 1 column 2 (char 1)"
     ]
    }
   ],
   "source": [
    "collection_currency = db['currency']\n",
    "\n",
    "with open('tinder_data.json') as f:\n",
    "    file_data = json.load(f)\n",
    "\n",
    "collection_currency.insert(file_data)\n",
    "client.close()"
   ]
  },
  {
   "cell_type": "code",
   "execution_count": null,
   "metadata": {},
   "outputs": [],
   "source": []
  },
  {
   "cell_type": "code",
   "execution_count": null,
   "metadata": {},
   "outputs": [],
   "source": [
    "datastore = json.loads(json_string)"
   ]
  },
  {
   "cell_type": "code",
   "execution_count": 36,
   "metadata": {},
   "outputs": [],
   "source": [
    "\n",
    "\n",
    "def js_r(filename):\n",
    "   with open(filename) as f_in:\n",
    "       return(json.load(f_in))\n",
    "\n",
    "\n",
    "    "
   ]
  },
  {
   "cell_type": "code",
   "execution_count": 37,
   "metadata": {},
   "outputs": [
    {
     "ename": "JSONDecodeError",
     "evalue": "Expecting property name enclosed in double quotes: line 1 column 2 (char 1)",
     "output_type": "error",
     "traceback": [
      "\u001b[0;31m---------------------------------------------------------------------------\u001b[0m",
      "\u001b[0;31mJSONDecodeError\u001b[0m                           Traceback (most recent call last)",
      "\u001b[0;32m<ipython-input-37-4e34cd3a3aee>\u001b[0m in \u001b[0;36m<module>\u001b[0;34m()\u001b[0m\n\u001b[0;32m----> 1\u001b[0;31m \u001b[0mfin\u001b[0m \u001b[0;34m=\u001b[0m \u001b[0mjs_r\u001b[0m\u001b[0;34m(\u001b[0m\u001b[0;34m'tinder_data.json'\u001b[0m\u001b[0;34m)\u001b[0m\u001b[0;34m\u001b[0m\u001b[0m\n\u001b[0m",
      "\u001b[0;32m<ipython-input-36-889e3d4008f6>\u001b[0m in \u001b[0;36mjs_r\u001b[0;34m(filename)\u001b[0m\n\u001b[1;32m      3\u001b[0m \u001b[0;32mdef\u001b[0m \u001b[0mjs_r\u001b[0m\u001b[0;34m(\u001b[0m\u001b[0mfilename\u001b[0m\u001b[0;34m)\u001b[0m\u001b[0;34m:\u001b[0m\u001b[0;34m\u001b[0m\u001b[0m\n\u001b[1;32m      4\u001b[0m    \u001b[0;32mwith\u001b[0m \u001b[0mopen\u001b[0m\u001b[0;34m(\u001b[0m\u001b[0mfilename\u001b[0m\u001b[0;34m)\u001b[0m \u001b[0;32mas\u001b[0m \u001b[0mf_in\u001b[0m\u001b[0;34m:\u001b[0m\u001b[0;34m\u001b[0m\u001b[0m\n\u001b[0;32m----> 5\u001b[0;31m        \u001b[0;32mreturn\u001b[0m\u001b[0;34m(\u001b[0m\u001b[0mjson\u001b[0m\u001b[0;34m.\u001b[0m\u001b[0mload\u001b[0m\u001b[0;34m(\u001b[0m\u001b[0mf_in\u001b[0m\u001b[0;34m)\u001b[0m\u001b[0;34m)\u001b[0m\u001b[0;34m\u001b[0m\u001b[0m\n\u001b[0m\u001b[1;32m      6\u001b[0m \u001b[0;34m\u001b[0m\u001b[0m\n\u001b[1;32m      7\u001b[0m \u001b[0;34m\u001b[0m\u001b[0m\n",
      "\u001b[0;32m~/anaconda3/lib/python3.6/json/__init__.py\u001b[0m in \u001b[0;36mload\u001b[0;34m(fp, cls, object_hook, parse_float, parse_int, parse_constant, object_pairs_hook, **kw)\u001b[0m\n\u001b[1;32m    297\u001b[0m         \u001b[0mcls\u001b[0m\u001b[0;34m=\u001b[0m\u001b[0mcls\u001b[0m\u001b[0;34m,\u001b[0m \u001b[0mobject_hook\u001b[0m\u001b[0;34m=\u001b[0m\u001b[0mobject_hook\u001b[0m\u001b[0;34m,\u001b[0m\u001b[0;34m\u001b[0m\u001b[0m\n\u001b[1;32m    298\u001b[0m         \u001b[0mparse_float\u001b[0m\u001b[0;34m=\u001b[0m\u001b[0mparse_float\u001b[0m\u001b[0;34m,\u001b[0m \u001b[0mparse_int\u001b[0m\u001b[0;34m=\u001b[0m\u001b[0mparse_int\u001b[0m\u001b[0;34m,\u001b[0m\u001b[0;34m\u001b[0m\u001b[0m\n\u001b[0;32m--> 299\u001b[0;31m         parse_constant=parse_constant, object_pairs_hook=object_pairs_hook, **kw)\n\u001b[0m\u001b[1;32m    300\u001b[0m \u001b[0;34m\u001b[0m\u001b[0m\n\u001b[1;32m    301\u001b[0m \u001b[0;34m\u001b[0m\u001b[0m\n",
      "\u001b[0;32m~/anaconda3/lib/python3.6/json/__init__.py\u001b[0m in \u001b[0;36mloads\u001b[0;34m(s, encoding, cls, object_hook, parse_float, parse_int, parse_constant, object_pairs_hook, **kw)\u001b[0m\n\u001b[1;32m    352\u001b[0m             \u001b[0mparse_int\u001b[0m \u001b[0;32mis\u001b[0m \u001b[0;32mNone\u001b[0m \u001b[0;32mand\u001b[0m \u001b[0mparse_float\u001b[0m \u001b[0;32mis\u001b[0m \u001b[0;32mNone\u001b[0m \u001b[0;32mand\u001b[0m\u001b[0;34m\u001b[0m\u001b[0m\n\u001b[1;32m    353\u001b[0m             parse_constant is None and object_pairs_hook is None and not kw):\n\u001b[0;32m--> 354\u001b[0;31m         \u001b[0;32mreturn\u001b[0m \u001b[0m_default_decoder\u001b[0m\u001b[0;34m.\u001b[0m\u001b[0mdecode\u001b[0m\u001b[0;34m(\u001b[0m\u001b[0ms\u001b[0m\u001b[0;34m)\u001b[0m\u001b[0;34m\u001b[0m\u001b[0m\n\u001b[0m\u001b[1;32m    355\u001b[0m     \u001b[0;32mif\u001b[0m \u001b[0mcls\u001b[0m \u001b[0;32mis\u001b[0m \u001b[0;32mNone\u001b[0m\u001b[0;34m:\u001b[0m\u001b[0;34m\u001b[0m\u001b[0m\n\u001b[1;32m    356\u001b[0m         \u001b[0mcls\u001b[0m \u001b[0;34m=\u001b[0m \u001b[0mJSONDecoder\u001b[0m\u001b[0;34m\u001b[0m\u001b[0m\n",
      "\u001b[0;32m~/anaconda3/lib/python3.6/json/decoder.py\u001b[0m in \u001b[0;36mdecode\u001b[0;34m(self, s, _w)\u001b[0m\n\u001b[1;32m    337\u001b[0m \u001b[0;34m\u001b[0m\u001b[0m\n\u001b[1;32m    338\u001b[0m         \"\"\"\n\u001b[0;32m--> 339\u001b[0;31m         \u001b[0mobj\u001b[0m\u001b[0;34m,\u001b[0m \u001b[0mend\u001b[0m \u001b[0;34m=\u001b[0m \u001b[0mself\u001b[0m\u001b[0;34m.\u001b[0m\u001b[0mraw_decode\u001b[0m\u001b[0;34m(\u001b[0m\u001b[0ms\u001b[0m\u001b[0;34m,\u001b[0m \u001b[0midx\u001b[0m\u001b[0;34m=\u001b[0m\u001b[0m_w\u001b[0m\u001b[0;34m(\u001b[0m\u001b[0ms\u001b[0m\u001b[0;34m,\u001b[0m \u001b[0;36m0\u001b[0m\u001b[0;34m)\u001b[0m\u001b[0;34m.\u001b[0m\u001b[0mend\u001b[0m\u001b[0;34m(\u001b[0m\u001b[0;34m)\u001b[0m\u001b[0;34m)\u001b[0m\u001b[0;34m\u001b[0m\u001b[0m\n\u001b[0m\u001b[1;32m    340\u001b[0m         \u001b[0mend\u001b[0m \u001b[0;34m=\u001b[0m \u001b[0m_w\u001b[0m\u001b[0;34m(\u001b[0m\u001b[0ms\u001b[0m\u001b[0;34m,\u001b[0m \u001b[0mend\u001b[0m\u001b[0;34m)\u001b[0m\u001b[0;34m.\u001b[0m\u001b[0mend\u001b[0m\u001b[0;34m(\u001b[0m\u001b[0;34m)\u001b[0m\u001b[0;34m\u001b[0m\u001b[0m\n\u001b[1;32m    341\u001b[0m         \u001b[0;32mif\u001b[0m \u001b[0mend\u001b[0m \u001b[0;34m!=\u001b[0m \u001b[0mlen\u001b[0m\u001b[0;34m(\u001b[0m\u001b[0ms\u001b[0m\u001b[0;34m)\u001b[0m\u001b[0;34m:\u001b[0m\u001b[0;34m\u001b[0m\u001b[0m\n",
      "\u001b[0;32m~/anaconda3/lib/python3.6/json/decoder.py\u001b[0m in \u001b[0;36mraw_decode\u001b[0;34m(self, s, idx)\u001b[0m\n\u001b[1;32m    353\u001b[0m         \"\"\"\n\u001b[1;32m    354\u001b[0m         \u001b[0;32mtry\u001b[0m\u001b[0;34m:\u001b[0m\u001b[0;34m\u001b[0m\u001b[0m\n\u001b[0;32m--> 355\u001b[0;31m             \u001b[0mobj\u001b[0m\u001b[0;34m,\u001b[0m \u001b[0mend\u001b[0m \u001b[0;34m=\u001b[0m \u001b[0mself\u001b[0m\u001b[0;34m.\u001b[0m\u001b[0mscan_once\u001b[0m\u001b[0;34m(\u001b[0m\u001b[0ms\u001b[0m\u001b[0;34m,\u001b[0m \u001b[0midx\u001b[0m\u001b[0;34m)\u001b[0m\u001b[0;34m\u001b[0m\u001b[0m\n\u001b[0m\u001b[1;32m    356\u001b[0m         \u001b[0;32mexcept\u001b[0m \u001b[0mStopIteration\u001b[0m \u001b[0;32mas\u001b[0m \u001b[0merr\u001b[0m\u001b[0;34m:\u001b[0m\u001b[0;34m\u001b[0m\u001b[0m\n\u001b[1;32m    357\u001b[0m             \u001b[0;32mraise\u001b[0m \u001b[0mJSONDecodeError\u001b[0m\u001b[0;34m(\u001b[0m\u001b[0;34m\"Expecting value\"\u001b[0m\u001b[0;34m,\u001b[0m \u001b[0ms\u001b[0m\u001b[0;34m,\u001b[0m \u001b[0merr\u001b[0m\u001b[0;34m.\u001b[0m\u001b[0mvalue\u001b[0m\u001b[0;34m)\u001b[0m \u001b[0;32mfrom\u001b[0m \u001b[0;32mNone\u001b[0m\u001b[0;34m\u001b[0m\u001b[0m\n",
      "\u001b[0;31mJSONDecodeError\u001b[0m: Expecting property name enclosed in double quotes: line 1 column 2 (char 1)"
     ]
    }
   ],
   "source": [
    "fin = js_r('tinder_data.json')"
   ]
  },
  {
   "cell_type": "code",
   "execution_count": 35,
   "metadata": {},
   "outputs": [
    {
     "ename": "JSONDecodeError",
     "evalue": "Expecting property name enclosed in double quotes: line 1 column 2 (char 1)",
     "output_type": "error",
     "traceback": [
      "\u001b[0;31m---------------------------------------------------------------------------\u001b[0m",
      "\u001b[0;31mJSONDecodeError\u001b[0m                           Traceback (most recent call last)",
      "\u001b[0;32m<ipython-input-35-6a079f08a34d>\u001b[0m in \u001b[0;36m<module>\u001b[0;34m()\u001b[0m\n\u001b[1;32m      1\u001b[0m \u001b[0;32mwith\u001b[0m \u001b[0mopen\u001b[0m\u001b[0;34m(\u001b[0m\u001b[0;34m'tinder_data.json'\u001b[0m\u001b[0;34m,\u001b[0m \u001b[0;34m'r'\u001b[0m\u001b[0;34m)\u001b[0m \u001b[0;32mas\u001b[0m \u001b[0mf\u001b[0m\u001b[0;34m:\u001b[0m\u001b[0;34m\u001b[0m\u001b[0m\n\u001b[0;32m----> 2\u001b[0;31m     \u001b[0mdistros_dict\u001b[0m \u001b[0;34m=\u001b[0m \u001b[0mjson\u001b[0m\u001b[0;34m.\u001b[0m\u001b[0mload\u001b[0m\u001b[0;34m(\u001b[0m\u001b[0mf\u001b[0m\u001b[0;34m)\u001b[0m\u001b[0;34m\u001b[0m\u001b[0m\n\u001b[0m",
      "\u001b[0;32m~/anaconda3/lib/python3.6/json/__init__.py\u001b[0m in \u001b[0;36mload\u001b[0;34m(fp, cls, object_hook, parse_float, parse_int, parse_constant, object_pairs_hook, **kw)\u001b[0m\n\u001b[1;32m    297\u001b[0m         \u001b[0mcls\u001b[0m\u001b[0;34m=\u001b[0m\u001b[0mcls\u001b[0m\u001b[0;34m,\u001b[0m \u001b[0mobject_hook\u001b[0m\u001b[0;34m=\u001b[0m\u001b[0mobject_hook\u001b[0m\u001b[0;34m,\u001b[0m\u001b[0;34m\u001b[0m\u001b[0m\n\u001b[1;32m    298\u001b[0m         \u001b[0mparse_float\u001b[0m\u001b[0;34m=\u001b[0m\u001b[0mparse_float\u001b[0m\u001b[0;34m,\u001b[0m \u001b[0mparse_int\u001b[0m\u001b[0;34m=\u001b[0m\u001b[0mparse_int\u001b[0m\u001b[0;34m,\u001b[0m\u001b[0;34m\u001b[0m\u001b[0m\n\u001b[0;32m--> 299\u001b[0;31m         parse_constant=parse_constant, object_pairs_hook=object_pairs_hook, **kw)\n\u001b[0m\u001b[1;32m    300\u001b[0m \u001b[0;34m\u001b[0m\u001b[0m\n\u001b[1;32m    301\u001b[0m \u001b[0;34m\u001b[0m\u001b[0m\n",
      "\u001b[0;32m~/anaconda3/lib/python3.6/json/__init__.py\u001b[0m in \u001b[0;36mloads\u001b[0;34m(s, encoding, cls, object_hook, parse_float, parse_int, parse_constant, object_pairs_hook, **kw)\u001b[0m\n\u001b[1;32m    352\u001b[0m             \u001b[0mparse_int\u001b[0m \u001b[0;32mis\u001b[0m \u001b[0;32mNone\u001b[0m \u001b[0;32mand\u001b[0m \u001b[0mparse_float\u001b[0m \u001b[0;32mis\u001b[0m \u001b[0;32mNone\u001b[0m \u001b[0;32mand\u001b[0m\u001b[0;34m\u001b[0m\u001b[0m\n\u001b[1;32m    353\u001b[0m             parse_constant is None and object_pairs_hook is None and not kw):\n\u001b[0;32m--> 354\u001b[0;31m         \u001b[0;32mreturn\u001b[0m \u001b[0m_default_decoder\u001b[0m\u001b[0;34m.\u001b[0m\u001b[0mdecode\u001b[0m\u001b[0;34m(\u001b[0m\u001b[0ms\u001b[0m\u001b[0;34m)\u001b[0m\u001b[0;34m\u001b[0m\u001b[0m\n\u001b[0m\u001b[1;32m    355\u001b[0m     \u001b[0;32mif\u001b[0m \u001b[0mcls\u001b[0m \u001b[0;32mis\u001b[0m \u001b[0;32mNone\u001b[0m\u001b[0;34m:\u001b[0m\u001b[0;34m\u001b[0m\u001b[0m\n\u001b[1;32m    356\u001b[0m         \u001b[0mcls\u001b[0m \u001b[0;34m=\u001b[0m \u001b[0mJSONDecoder\u001b[0m\u001b[0;34m\u001b[0m\u001b[0m\n",
      "\u001b[0;32m~/anaconda3/lib/python3.6/json/decoder.py\u001b[0m in \u001b[0;36mdecode\u001b[0;34m(self, s, _w)\u001b[0m\n\u001b[1;32m    337\u001b[0m \u001b[0;34m\u001b[0m\u001b[0m\n\u001b[1;32m    338\u001b[0m         \"\"\"\n\u001b[0;32m--> 339\u001b[0;31m         \u001b[0mobj\u001b[0m\u001b[0;34m,\u001b[0m \u001b[0mend\u001b[0m \u001b[0;34m=\u001b[0m \u001b[0mself\u001b[0m\u001b[0;34m.\u001b[0m\u001b[0mraw_decode\u001b[0m\u001b[0;34m(\u001b[0m\u001b[0ms\u001b[0m\u001b[0;34m,\u001b[0m \u001b[0midx\u001b[0m\u001b[0;34m=\u001b[0m\u001b[0m_w\u001b[0m\u001b[0;34m(\u001b[0m\u001b[0ms\u001b[0m\u001b[0;34m,\u001b[0m \u001b[0;36m0\u001b[0m\u001b[0;34m)\u001b[0m\u001b[0;34m.\u001b[0m\u001b[0mend\u001b[0m\u001b[0;34m(\u001b[0m\u001b[0;34m)\u001b[0m\u001b[0;34m)\u001b[0m\u001b[0;34m\u001b[0m\u001b[0m\n\u001b[0m\u001b[1;32m    340\u001b[0m         \u001b[0mend\u001b[0m \u001b[0;34m=\u001b[0m \u001b[0m_w\u001b[0m\u001b[0;34m(\u001b[0m\u001b[0ms\u001b[0m\u001b[0;34m,\u001b[0m \u001b[0mend\u001b[0m\u001b[0;34m)\u001b[0m\u001b[0;34m.\u001b[0m\u001b[0mend\u001b[0m\u001b[0;34m(\u001b[0m\u001b[0;34m)\u001b[0m\u001b[0;34m\u001b[0m\u001b[0m\n\u001b[1;32m    341\u001b[0m         \u001b[0;32mif\u001b[0m \u001b[0mend\u001b[0m \u001b[0;34m!=\u001b[0m \u001b[0mlen\u001b[0m\u001b[0;34m(\u001b[0m\u001b[0ms\u001b[0m\u001b[0;34m)\u001b[0m\u001b[0;34m:\u001b[0m\u001b[0;34m\u001b[0m\u001b[0m\n",
      "\u001b[0;32m~/anaconda3/lib/python3.6/json/decoder.py\u001b[0m in \u001b[0;36mraw_decode\u001b[0;34m(self, s, idx)\u001b[0m\n\u001b[1;32m    353\u001b[0m         \"\"\"\n\u001b[1;32m    354\u001b[0m         \u001b[0;32mtry\u001b[0m\u001b[0;34m:\u001b[0m\u001b[0;34m\u001b[0m\u001b[0m\n\u001b[0;32m--> 355\u001b[0;31m             \u001b[0mobj\u001b[0m\u001b[0;34m,\u001b[0m \u001b[0mend\u001b[0m \u001b[0;34m=\u001b[0m \u001b[0mself\u001b[0m\u001b[0;34m.\u001b[0m\u001b[0mscan_once\u001b[0m\u001b[0;34m(\u001b[0m\u001b[0ms\u001b[0m\u001b[0;34m,\u001b[0m \u001b[0midx\u001b[0m\u001b[0;34m)\u001b[0m\u001b[0;34m\u001b[0m\u001b[0m\n\u001b[0m\u001b[1;32m    356\u001b[0m         \u001b[0;32mexcept\u001b[0m \u001b[0mStopIteration\u001b[0m \u001b[0;32mas\u001b[0m \u001b[0merr\u001b[0m\u001b[0;34m:\u001b[0m\u001b[0;34m\u001b[0m\u001b[0m\n\u001b[1;32m    357\u001b[0m             \u001b[0;32mraise\u001b[0m \u001b[0mJSONDecodeError\u001b[0m\u001b[0;34m(\u001b[0m\u001b[0;34m\"Expecting value\"\u001b[0m\u001b[0;34m,\u001b[0m \u001b[0ms\u001b[0m\u001b[0;34m,\u001b[0m \u001b[0merr\u001b[0m\u001b[0;34m.\u001b[0m\u001b[0mvalue\u001b[0m\u001b[0;34m)\u001b[0m \u001b[0;32mfrom\u001b[0m \u001b[0;32mNone\u001b[0m\u001b[0;34m\u001b[0m\u001b[0m\n",
      "\u001b[0;31mJSONDecodeError\u001b[0m: Expecting property name enclosed in double quotes: line 1 column 2 (char 1)"
     ]
    }
   ],
   "source": []
  },
  {
   "cell_type": "code",
   "execution_count": 33,
   "metadata": {},
   "outputs": [
    {
     "ename": "TypeError",
     "evalue": "dump() missing 1 required positional argument: 'fp'",
     "output_type": "error",
     "traceback": [
      "\u001b[0;31m---------------------------------------------------------------------------\u001b[0m",
      "\u001b[0;31mTypeError\u001b[0m                                 Traceback (most recent call last)",
      "\u001b[0;32m<ipython-input-33-28cfdf7a365f>\u001b[0m in \u001b[0;36m<module>\u001b[0;34m()\u001b[0m\n\u001b[1;32m      2\u001b[0m \u001b[0;34m\u001b[0m\u001b[0m\n\u001b[1;32m      3\u001b[0m \u001b[0;32mwith\u001b[0m \u001b[0mopen\u001b[0m\u001b[0;34m(\u001b[0m\u001b[0;34m'tinder_data.json'\u001b[0m\u001b[0;34m)\u001b[0m \u001b[0;32mas\u001b[0m \u001b[0mjson_file\u001b[0m\u001b[0;34m:\u001b[0m\u001b[0;34m\u001b[0m\u001b[0m\n\u001b[0;32m----> 4\u001b[0;31m     \u001b[0mdata\u001b[0m \u001b[0;34m=\u001b[0m \u001b[0mjson\u001b[0m\u001b[0;34m.\u001b[0m\u001b[0mdump\u001b[0m\u001b[0;34m(\u001b[0m\u001b[0mjson_file\u001b[0m\u001b[0;34m)\u001b[0m\u001b[0;34m\u001b[0m\u001b[0m\n\u001b[0m",
      "\u001b[0;31mTypeError\u001b[0m: dump() missing 1 required positional argument: 'fp'"
     ]
    }
   ],
   "source": [
    "import json\n",
    "\n",
    "with open('tinder_data.json') as json_file:  \n",
    "    data = json.dump(json_file)"
   ]
  },
  {
   "cell_type": "code",
   "execution_count": null,
   "metadata": {},
   "outputs": [],
   "source": [
    "json.dumps(value)"
   ]
  },
  {
   "cell_type": "code",
   "execution_count": null,
   "metadata": {},
   "outputs": [],
   "source": [
    "coll.save(doc)"
   ]
  },
  {
   "cell_type": "code",
   "execution_count": null,
   "metadata": {},
   "outputs": [],
   "source": []
  },
  {
   "cell_type": "code",
   "execution_count": null,
   "metadata": {},
   "outputs": [],
   "source": []
  },
  {
   "cell_type": "code",
   "execution_count": 1,
   "metadata": {},
   "outputs": [],
   "source": []
  },
  {
   "cell_type": "code",
   "execution_count": null,
   "metadata": {},
   "outputs": [],
   "source": []
  },
  {
   "cell_type": "code",
   "execution_count": 2,
   "metadata": {},
   "outputs": [],
   "source": [
    "# соединяемся с сервером базы данных \n",
    "# (по умолчанию подключение осуществляется на localhost:27017)\n",
    "conn = pymongo.MongoClient()"
   ]
  },
  {
   "cell_type": "code",
   "execution_count": 4,
   "metadata": {},
   "outputs": [],
   "source": [
    "# соединяемся с сервером базы данных \n",
    "# (по умолчанию подключение осуществляется на localhost:27017)\n",
    "#conn = pymongo.Connection()"
   ]
  },
  {
   "cell_type": "code",
   "execution_count": 5,
   "metadata": {},
   "outputs": [
    {
     "data": {
      "text/plain": [
       "<module 'pymongo' from '/home/edvard/anaconda3/lib/python3.6/site-packages/pymongo/__init__.py'>"
      ]
     },
     "execution_count": 5,
     "metadata": {},
     "output_type": "execute_result"
    }
   ],
   "source": [
    "pymongo"
   ]
  },
  {
   "cell_type": "code",
   "execution_count": 17,
   "metadata": {},
   "outputs": [],
   "source": [
    "# подключаемся к другому серверу, на другой порт\n",
    "conn = pymongo.MongoClient('localhost', 27017)"
   ]
  },
  {
   "cell_type": "code",
   "execution_count": null,
   "metadata": {},
   "outputs": [],
   "source": []
  },
  {
   "cell_type": "code",
   "execution_count": 6,
   "metadata": {},
   "outputs": [],
   "source": [
    "# импортируем pymongo\n",
    "import pymongo\n",
    " \n",
    "# соединяемся с сервером базы данных \n",
    "# (по умолчанию подключение осуществляется на localhost:27017)\n",
    "conn = pymongo.MongoClient()\n",
    " \n",
    "# подключаемся к другому серверу, на другой порт\n",
    "#conn = pymongo.MongoClient('localhost', 27017)\n",
    " \n",
    "# выбираем базу данных\n",
    "db = conn.testdb\n",
    " \n",
    "# БД можно выбрать и так\n",
    "#db = conn['testdb']\n",
    " \n",
    "# выбираем коллекцию документов\n",
    "coll = db.mycoll"
   ]
  },
  {
   "cell_type": "code",
   "execution_count": 7,
   "metadata": {},
   "outputs": [
    {
     "data": {
      "text/plain": [
       "Collection(Database(MongoClient(host=['localhost:27017'], document_class=dict, tz_aware=False, connect=True), 'testdb'), 'mycoll')"
      ]
     },
     "execution_count": 7,
     "metadata": {},
     "output_type": "execute_result"
    }
   ],
   "source": [
    "coll"
   ]
  },
  {
   "cell_type": "code",
   "execution_count": 9,
   "metadata": {},
   "outputs": [],
   "source": [
    "# выводим все документы из коллекции coll\n",
    "for men in coll.find():\n",
    "    print (men)"
   ]
  },
  {
   "cell_type": "code",
   "execution_count": null,
   "metadata": {},
   "outputs": [],
   "source": []
  },
  {
   "cell_type": "code",
   "execution_count": 19,
   "metadata": {},
   "outputs": [
    {
     "data": {
      "text/plain": [
       "Collection(Database(MongoClient(host=['localhost:27017'], document_class=dict, tz_aware=False, connect=True), 'mydb'), 'mycoll')"
      ]
     },
     "execution_count": 19,
     "metadata": {},
     "output_type": "execute_result"
    }
   ],
   "source": [
    "coll"
   ]
  },
  {
   "cell_type": "code",
   "execution_count": 10,
   "metadata": {},
   "outputs": [
    {
     "name": "stderr",
     "output_type": "stream",
     "text": [
      "/home/edvard/anaconda3/lib/python3.6/site-packages/ipykernel_launcher.py:4: DeprecationWarning: save is deprecated. Use insert_one or replace_one instead\n",
      "  after removing the cwd from sys.path.\n"
     ]
    },
    {
     "name": "stdout",
     "output_type": "stream",
     "text": [
      "{'_id': ObjectId('5cd197e9435fa614b7362b13'), 'name': 'Иван', 'surname': 'Иванов'}\n",
      "{'_id': ObjectId('5cd197e9435fa614b7362b14'), 'name': 'Петр', 'surname': 'Петров'}\n"
     ]
    },
    {
     "name": "stderr",
     "output_type": "stream",
     "text": [
      "/home/edvard/anaconda3/lib/python3.6/site-packages/ipykernel_launcher.py:7: DeprecationWarning: save is deprecated. Use insert_one or replace_one instead\n",
      "  import sys\n"
     ]
    }
   ],
   "source": [
    "# осуществляем добавление документа в коллекцию,\n",
    "# который содержит поля name и surname - имя и фамилия\n",
    "doc = {\"name\":\"Иван\", \"surname\":\"Иванов\"}\n",
    "coll.save(doc)\n",
    " \n",
    "# альтернативное добавление документа\n",
    "coll.save({\"name\":\"Петр\", \"surname\":\"Петров\"})\n",
    " \n",
    "# выводим все документы из коллекции coll\n",
    "for men in coll.find():\n",
    "    print (men)\n",
    " \n",
    "#выводим фамилии людей с именем Петр\n",
    "#for men in coll.find({\"name\": \"Петр\"})\n",
    "#    print (men[\"surname\"])"
   ]
  },
  {
   "cell_type": "code",
   "execution_count": 11,
   "metadata": {},
   "outputs": [
    {
     "data": {
      "text/plain": [
       "{'_id': ObjectId('5cd197e9435fa614b7362b14'),\n",
       " 'name': 'Петр',\n",
       " 'surname': 'Петров'}"
      ]
     },
     "execution_count": 11,
     "metadata": {},
     "output_type": "execute_result"
    }
   ],
   "source": [
    "men"
   ]
  },
  {
   "cell_type": "code",
   "execution_count": null,
   "metadata": {},
   "outputs": [],
   "source": [
    "coll.find()"
   ]
  },
  {
   "cell_type": "code",
   "execution_count": 14,
   "metadata": {},
   "outputs": [
    {
     "name": "stdout",
     "output_type": "stream",
     "text": [
      "Петров\n"
     ]
    }
   ],
   "source": [
    "#выводим фамилии людей с именем Петр\n",
    "for men in coll.find({\"name\": \"Петр\"}):\n",
    "    print (men[\"surname\"])"
   ]
  },
  {
   "cell_type": "code",
   "execution_count": 15,
   "metadata": {},
   "outputs": [
    {
     "name": "stdout",
     "output_type": "stream",
     "text": [
      "{'_id': ObjectId('5cd197e9435fa614b7362b13'), 'name': 'Иван', 'surname': 'Иванов'}\n",
      "{'_id': ObjectId('5cd197e9435fa614b7362b14'), 'name': 'Петр', 'surname': 'Петров'}\n"
     ]
    }
   ],
   "source": [
    "# выводим все документы из коллекции coll\n",
    "for men in coll.find():\n",
    "    print (men)"
   ]
  },
  {
   "cell_type": "code",
   "execution_count": null,
   "metadata": {},
   "outputs": [],
   "source": []
  }
 ],
 "metadata": {
  "kernelspec": {
   "display_name": "Python 3",
   "language": "python",
   "name": "python3"
  },
  "language_info": {
   "codemirror_mode": {
    "name": "ipython",
    "version": 3
   },
   "file_extension": ".py",
   "mimetype": "text/x-python",
   "name": "python",
   "nbconvert_exporter": "python",
   "pygments_lexer": "ipython3",
   "version": "3.6.5"
  }
 },
 "nbformat": 4,
 "nbformat_minor": 2
}
