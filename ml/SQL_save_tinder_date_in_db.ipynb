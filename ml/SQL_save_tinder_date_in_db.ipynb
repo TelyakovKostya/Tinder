{
 "cells": [
  {
   "cell_type": "code",
   "execution_count": 3,
   "metadata": {},
   "outputs": [],
   "source": [
    "import sqlite3\n",
    "import json\n",
    "from datetime import datetime\n",
    "import time\n",
    "import"
   ]
  },
  {
   "cell_type": "code",
   "execution_count": 16,
   "metadata": {},
   "outputs": [],
   "source": [
    "#dataset = 'half2014_20M'\n",
    "#sql_transaction = []\n",
    "#start_row = 0\n",
    "#cleanup = 1000000\n",
    "\n",
    "connection = sqlite3.connect('tinder_db.db')\n",
    "cursor = connection.cursor()\n"
   ]
  },
  {
   "cell_type": "code",
   "execution_count": 14,
   "metadata": {},
   "outputs": [],
   "source": [
    "def create_table(table_name):\n",
    "    c.execute(\"\"\"CREATE TABLE IF NOT EXISTS {}(parent_id TEXT PRIMARY KEY, \n",
    "                                                          _id INT UNIQUE, \n",
    "                                                          bio TEXT, \n",
    "                                                          name TEXT, \n",
    "                                                          photos TEXT, \n",
    "                                                          distance_mi INT)\"\"\".format(table_name))"
   ]
  },
  {
   "cell_type": "code",
   "execution_count": 15,
   "metadata": {},
   "outputs": [],
   "source": [
    "create_table('tinder_info')"
   ]
  },
  {
   "cell_type": "code",
   "execution_count": 31,
   "metadata": {},
   "outputs": [
    {
     "name": "stdout",
     "output_type": "stream",
     "text": [
      "[]\n"
     ]
    }
   ],
   "source": [
    "cursor.execute('SELECT * FROM tinder_info')\n",
    "print(cursor.fetchall())"
   ]
  },
  {
   "cell_type": "code",
   "execution_count": null,
   "metadata": {},
   "outputs": [],
   "source": []
  },
  {
   "cell_type": "code",
   "execution_count": null,
   "metadata": {},
   "outputs": [],
   "source": []
  },
  {
   "cell_type": "code",
   "execution_count": null,
   "metadata": {},
   "outputs": [],
   "source": [
    "recommendations['results'][0]['_id']"
   ]
  },
  {
   "cell_type": "code",
   "execution_count": 26,
   "metadata": {},
   "outputs": [],
   "source": [
    "def sql_insert_replace_comment(commentid,parentid):\n",
    "    try:\n",
    "        sql = \"\"\"UPDATE parent_reply SET parent_id = ?, \n",
    "                                         comment_id = ?\"\"\".format(parentid, commentid)\n",
    "    except Exception as e:\n",
    "        print('s0 insertion',str(e))\n"
   ]
  },
  {
   "cell_type": "code",
   "execution_count": null,
   "metadata": {},
   "outputs": [],
   "source": []
  },
  {
   "cell_type": "code",
   "execution_count": null,
   "metadata": {},
   "outputs": [],
   "source": []
  },
  {
   "cell_type": "code",
   "execution_count": 24,
   "metadata": {},
   "outputs": [],
   "source": [
    "def transaction_bldr(sql):\n",
    "    global sql_transaction\n",
    "    sql_transaction.append(sql)\n",
    "    if len(sql_transaction) > 1000:\n",
    "        c.execute('BEGIN TRANSACTION')\n",
    "        for s in sql_transaction:\n",
    "            try:\n",
    "                c.execute(s)\n",
    "            except:\n",
    "                pass\n",
    "        connection.commit()\n",
    "        sql_transaction = []"
   ]
  },
  {
   "cell_type": "code",
   "execution_count": 27,
   "metadata": {},
   "outputs": [],
   "source": [
    "sql_insert_replace_comment(1,2)"
   ]
  },
  {
   "cell_type": "code",
   "execution_count": 28,
   "metadata": {},
   "outputs": [
    {
     "data": {
      "text/plain": [
       "<sqlite3.Cursor at 0x7f839c647ea0>"
      ]
     },
     "execution_count": 28,
     "metadata": {},
     "output_type": "execute_result"
    }
   ],
   "source": [
    "cursor.execute('SELECT * FROM tinder_info')"
   ]
  },
  {
   "cell_type": "code",
   "execution_count": null,
   "metadata": {},
   "outputs": [],
   "source": []
  },
  {
   "cell_type": "code",
   "execution_count": null,
   "metadata": {},
   "outputs": [],
   "source": []
  },
  {
   "cell_type": "code",
   "execution_count": null,
   "metadata": {},
   "outputs": [],
   "source": []
  },
  {
   "cell_type": "code",
   "execution_count": null,
   "metadata": {},
   "outputs": [],
   "source": [
    "def sql_insert_replace_comment(commentid,parentid,parent,comment,subreddit,time,score):\n",
    "    try:\n",
    "        sql = \"\"\"UPDATE parent_reply SET parent_id = ?, \n",
    "                                         comment_id = ?, \n",
    "                                         parent = ?, \n",
    "                                         comment = ?, \n",
    "                                         subreddit = ?, \n",
    "                                         unix = ?, \n",
    "                                         score = ? \n",
    "                                    WHERE parent_id =?;\"\"\".format(parentid, commentid, parent, comment, subreddit, int(time), score, parentid)\n",
    "        transaction_bldr(sql)\n",
    "    except Exception as e:\n",
    "        print('s0 insertion',str(e))\n"
   ]
  },
  {
   "cell_type": "code",
   "execution_count": null,
   "metadata": {},
   "outputs": [],
   "source": []
  },
  {
   "cell_type": "code",
   "execution_count": null,
   "metadata": {},
   "outputs": [],
   "source": []
  },
  {
   "cell_type": "code",
   "execution_count": 7,
   "metadata": {},
   "outputs": [
    {
     "ename": "OperationalError",
     "evalue": "no such table: tinder_date",
     "output_type": "error",
     "traceback": [
      "\u001b[0;31m---------------------------------------------------------------------------\u001b[0m",
      "\u001b[0;31mOperationalError\u001b[0m                          Traceback (most recent call last)",
      "\u001b[0;32m<ipython-input-7-5ccb3d958f98>\u001b[0m in \u001b[0;36m<module>\u001b[0;34m()\u001b[0m\n\u001b[0;32m----> 1\u001b[0;31m \u001b[0mc\u001b[0m\u001b[0;34m.\u001b[0m\u001b[0mexecute\u001b[0m\u001b[0;34m(\u001b[0m\u001b[0;34m'SELECT * FROM tinder_date'\u001b[0m\u001b[0;34m)\u001b[0m\u001b[0;34m\u001b[0m\u001b[0m\n\u001b[0m",
      "\u001b[0;31mOperationalError\u001b[0m: no such table: tinder_date"
     ]
    }
   ],
   "source": [
    "c.execute('SELECT * FROM tinder_date')"
   ]
  },
  {
   "cell_type": "code",
   "execution_count": null,
   "metadata": {},
   "outputs": [],
   "source": []
  },
  {
   "cell_type": "code",
   "execution_count": null,
   "metadata": {},
   "outputs": [],
   "source": [
    "def create_table():\n",
    "    c.execute(\"\"\"CREATE TABLE IF NOT EXISTS parent_reply(parent_id TEXT PRIMARY KEY, \n",
    "                                                          comment_id TEXT UNIQUE, \n",
    "                                                          parent TEXT, \n",
    "                                                          comment TEXT, \n",
    "                                                          subreddit TEXT, \n",
    "                                                          unix INT, \n",
    "                                                          score INT)\"\"\")\n",
    "\n"
   ]
  },
  {
   "cell_type": "code",
   "execution_count": null,
   "metadata": {},
   "outputs": [],
   "source": [
    "def format_data(data):\n",
    "    data = data.replace('\\n',' newlinechar ').replace('\\r',' newlinechar ').replace('\"',\"'\")\n",
    "    return data"
   ]
  },
  {
   "cell_type": "code",
   "execution_count": null,
   "metadata": {},
   "outputs": [],
   "source": []
  },
  {
   "cell_type": "code",
   "execution_count": null,
   "metadata": {},
   "outputs": [],
   "source": []
  },
  {
   "cell_type": "code",
   "execution_count": null,
   "metadata": {},
   "outputs": [],
   "source": []
  },
  {
   "cell_type": "code",
   "execution_count": null,
   "metadata": {},
   "outputs": [],
   "source": []
  },
  {
   "cell_type": "code",
   "execution_count": null,
   "metadata": {},
   "outputs": [],
   "source": []
  },
  {
   "cell_type": "code",
   "execution_count": null,
   "metadata": {},
   "outputs": [],
   "source": [
    "dataset = 'half2014_20M'\n",
    "sql_transaction = []\n",
    "start_row = 0\n",
    "cleanup = 1000000\n",
    "\n",
    "connection = sqlite3.connect('./databases/{}.db'.format(dataset))\n",
    "c = connection.cursor()\n",
    "\n",
    "def create_table():\n",
    "    c.execute(\"CREATE TABLE IF NOT EXISTS parent_reply(parent_id TEXT PRIMARY KEY, comment_id TEXT UNIQUE, parent TEXT, comment TEXT, subreddit TEXT, unix INT, score INT)\")\n",
    "\n",
    "def format_data(data):\n",
    "    data = data.replace('\\n',' newlinechar ').replace('\\r',' newlinechar ').replace('\"',\"'\")\n",
    "    return data\n",
    "\n",
    "def transaction_bldr(sql):\n",
    "    global sql_transaction\n",
    "    sql_transaction.append(sql)\n",
    "    if len(sql_transaction) > 1000:\n",
    "        c.execute('BEGIN TRANSACTION')\n",
    "        for s in sql_transaction:\n",
    "            try:\n",
    "                c.execute(s)\n",
    "            except:\n",
    "                pass\n",
    "        connection.commit()\n",
    "        sql_transaction = []\n",
    "\n",
    "def sql_insert_replace_comment(commentid,parentid,parent,comment,subreddit,time,score):\n",
    "    try:\n",
    "        sql = \"\"\"UPDATE parent_reply SET parent_id = ?, comment_id = ?, parent = ?, comment = ?, subreddit = ?, unix = ?, score = ? WHERE parent_id =?;\"\"\".format(parentid, commentid, parent, comment, subreddit, int(time), score, parentid)\n",
    "        transaction_bldr(sql)\n",
    "    except Exception as e:\n",
    "        print('s0 insertion',str(e))\n",
    "\n",
    "def sql_insert_has_parent(commentid,parentid,parent,comment,subreddit,time,score):\n",
    "    try:\n",
    "        sql = \"\"\"INSERT INTO parent_reply (parent_id, comment_id, parent, comment, subreddit, unix, score) VALUES (\"{}\",\"{}\",\"{}\",\"{}\",\"{}\",{},{});\"\"\".format(parentid, commentid, parent, comment, subreddit, int(time), score)\n",
    "        transaction_bldr(sql)\n",
    "    except Exception as e:\n",
    "        print('s0 insertion',str(e))\n",
    "\n",
    "def sql_insert_no_parent(commentid,parentid,comment,subreddit,time,score):\n",
    "    try:\n",
    "        sql = \"\"\"INSERT INTO parent_reply (parent_id, comment_id, comment, subreddit, unix, score) VALUES (\"{}\",\"{}\",\"{}\",\"{}\",{},{});\"\"\".format(parentid, commentid, comment, subreddit, int(time), score)\n",
    "        transaction_bldr(sql)\n",
    "    except Exception as e:\n",
    "        print('s0 insertion',str(e))\n",
    "\n",
    "def acceptable(data):\n",
    "    if len(data.split(' ')) > 1000 or len(data) < 1:\n",
    "        return False\n",
    "    elif len(data) > 32000:\n",
    "        return False\n",
    "    elif data == '[deleted]':\n",
    "        return False\n",
    "    elif data == '[removed]':\n",
    "        return False\n",
    "    else:\n",
    "        return True\n",
    "\n",
    "def find_parent(pid):\n",
    "    try:\n",
    "        sql = \"SELECT comment FROM parent_reply WHERE comment_id = '{}' LIMIT 1\".format(pid)\n",
    "        c.execute(sql)\n",
    "        result = c.fetchone()\n",
    "        if result != None:\n",
    "            return result[0]\n",
    "        else: return False\n",
    "    except Exception as e:\n",
    "        #print(str(e))\n",
    "        return False\n",
    "\n",
    "def find_existing_score(pid):\n",
    "    try:\n",
    "        sql = \"SELECT score FROM parent_reply WHERE parent_id = '{}' LIMIT 1\".format(pid)\n",
    "        c.execute(sql)\n",
    "        result = c.fetchone()\n",
    "        if result != None:\n",
    "            return result[0]\n",
    "        else: return False\n",
    "    except Exception as e:\n",
    "        #print(str(e))\n",
    "        return False\n",
    "\n",
    "if __name__ == '__main__':\n",
    "    create_table()\n",
    "    row_counter = 0\n",
    "    paired_rows = 0\n",
    "\n",
    "    with open('./data/{}.json'.format(dataset), buffering=1000) as f:\n",
    "        for row in f:\n",
    "            #print(row)\n",
    "            #time.sleep(555)\n",
    "            row_counter += 1\n",
    "\n",
    "            if row_counter > start_row:\n",
    "                try:\n",
    "                    row = json.loads(row)\n",
    "                    parent_id = row['parent_id'].split('_')[1]\n",
    "                    body = format_data(row['body'])\n",
    "                    created_utc = row['created_utc']\n",
    "                    score = row['score']\n",
    "\n",
    "                    comment_id = row['id']\n",
    "\n",
    "                    subreddit = row['subreddit']\n",
    "                    parent_data = find_parent(parent_id)\n",
    "\n",
    "                    existing_comment_score = find_existing_score(parent_id)\n",
    "                    if existing_comment_score:\n",
    "                        if score > existing_comment_score:\n",
    "                            if acceptable(body):\n",
    "                                sql_insert_replace_comment(comment_id,parent_id,parent_data,body,subreddit,created_utc,score)\n",
    "\n",
    "                    else:\n",
    "                        if acceptable(body):\n",
    "                            if parent_data:\n",
    "                                if score >= 2:\n",
    "                                    sql_insert_has_parent(comment_id,parent_id,parent_data,body,subreddit,created_utc,score)\n",
    "                                    paired_rows += 1\n",
    "                            else:\n",
    "                                sql_insert_no_parent(comment_id,parent_id,body,subreddit,created_utc,score)\n",
    "                except Exception as e:\n",
    "                    print(str(e))\n",
    "\n",
    "            if row_counter % 100000 == 0:\n",
    "                print('Total Rows Read: {}, Paired Rows: {}, Time: {}'.format(row_counter, paired_rows, str(datetime.now())))\n",
    "\n",
    "            if row_counter > start_row:\n",
    "                if row_counter % cleanup == 0:\n",
    "                    print(\"Cleanin up!\")\n",
    "                    sql = \"DELETE FROM parent_reply WHERE parent IS NULL\"\n",
    "                    c.execute(sql)\n",
    "                    connection.commit()\n",
    "                    c.execute(\"VACUUM\")\n",
    "                    connection.commit()"
   ]
  }
 ],
 "metadata": {
  "kernelspec": {
   "display_name": "Python 3",
   "language": "python",
   "name": "python3"
  },
  "language_info": {
   "codemirror_mode": {
    "name": "ipython",
    "version": 3
   },
   "file_extension": ".py",
   "mimetype": "text/x-python",
   "name": "python",
   "nbconvert_exporter": "python",
   "pygments_lexer": "ipython3",
   "version": "3.6.5"
  }
 },
 "nbformat": 4,
 "nbformat_minor": 2
}
